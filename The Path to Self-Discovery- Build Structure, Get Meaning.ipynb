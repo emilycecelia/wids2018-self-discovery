{
 "cells": [
  {
   "cell_type": "markdown",
   "metadata": {},
   "source": [
    "# Looking Back at the Past\n",
    "\n",
    "In order to move forward, we need to remember where we have been.\n",
    "\n",
    "When we left off, we had a list of records based off of our sample data.\n",
    "\n",
    "** As we said in the last lesson, all of this parsing is based off of assumptions.  Changes were made to the function below to account for some new conditions.**"
   ]
  },
  {
   "cell_type": "code",
   "execution_count": 3,
   "metadata": {
    "collapsed": true
   },
   "outputs": [],
   "source": [
    "from bs4 import BeautifulSoup\n",
    "soup = BeautifulSoup(open('./My Activity - Sample.html', 'r', encoding='iso8859-1').read(), 'html.parser')"
   ]
  },
  {
   "cell_type": "code",
   "execution_count": 52,
   "metadata": {
    "collapsed": false
   },
   "outputs": [
    {
     "name": "stdout",
     "output_type": "stream",
     "text": [
      "{'Target': 'https://productforums.google.com/forum/', 'Lon': None, 'Activity Type': 'Visited', 'Product': 'Search', 'Lat': None, 'Datestamp': 'Jan 31, 2018, 10:54:50 PM'}\n",
      "{'Target': 'http://www.adobe.com/creativecloud.html', 'Lon': None, 'Activity Type': 'Visited', 'Product': 'Search', 'Lat': None, 'Datestamp': 'Feb 8, 2017, 12:32:39 AM'}\n",
      "{'Target': 'adobe creative cloud', 'Lon': '-80.186310', 'Activity Type': 'Searched for', 'Product': 'Search', 'Lat': '25.800819', 'Datestamp': 'Feb 8, 2017, 12:32:36 AM'}\n"
     ]
    }
   ],
   "source": [
    "import re\n",
    "\n",
    "location_pattern = '\\?q=([^\\s]+?),([^\\s]+)'\n",
    "\n",
    "def parse_record(element):\n",
    "    ### need to properly parse out the search target info.  first line, split on the visited or serached for, take the text from rest\n",
    "    section1 = element.find(\"div\", \"content-cell\")\n",
    "    \n",
    "    if section1.find(text=re.compile('Visited|Searched')):\n",
    "        section1_strings = list(section1.strings)\n",
    "        activity_type = None\n",
    "        target = None\n",
    "        datestamp = None\n",
    "        \n",
    "        if len(section1_strings)==3:\n",
    "            activity_type, target, datestamp = section1_strings\n",
    "        elif len(section1_strings)==2:\n",
    "            activity_type, target = section1_strings[0].split('\\xa0')\n",
    "            datestamp = section1_strings[-1]\n",
    "        else:\n",
    "            print('---Unknown----')\n",
    "            section1_strings\n",
    "            return None\n",
    "        activity_type = activity_type.replace('\\xa0', '').strip()\n",
    "\n",
    "        section2 = element.select(\"div.content-cell.mdl-typography--caption\")[0]\n",
    "        section_strings = list(section2.strings)\n",
    "        product = section_strings[1].replace('\\u2003','').strip()\n",
    "        lat = None\n",
    "        lon = None\n",
    "\n",
    "        if 'Locations:' in section_strings:\n",
    "            location_url = section2.find(\"a\",{\"href\":re.compile(\"https://google.com/maps\\?q=\")}).text\n",
    "            match = re.search(location_pattern, location_url)\n",
    "            if match:\n",
    "                lat, lon = match.groups()\n",
    "\n",
    "        data = {\n",
    "            'Activity Type': activity_type,\n",
    "            'Target': target,\n",
    "            'Datestamp': datestamp,\n",
    "            'Product': product,\n",
    "            'Lat':lat,\n",
    "            'Lon':lon\n",
    "        }\n",
    "\n",
    "        return data\n",
    "    \n",
    "    else:\n",
    "        return None\n",
    "\n",
    "my_records = []\n",
    "\n",
    "for record in soup.find_all('div', 'outer-cell'):\n",
    "    new_record = parse_record(record)\n",
    "    if new_record:\n",
    "        my_records.append(new_record)\n",
    "    \n",
    "for record in my_records:\n",
    "    print(record)"
   ]
  },
  {
   "cell_type": "markdown",
   "metadata": {},
   "source": [
    "# Exercise 1\n",
    "\n",
    "We ran this function over a sample dataset, but now we need to do it over the whole shabang!  Using everything you learned from the last lesson (and cheating with the example above), parse the records out of the full data file.  This is where you can use your own, or the dummy dataset we provided!"
   ]
  },
  {
   "cell_type": "code",
   "execution_count": 63,
   "metadata": {
    "collapsed": true
   },
   "outputs": [],
   "source": [
    "full_records = []\n",
    "\n",
    "# YOUR WORK HERE\n"
   ]
  },
  {
   "cell_type": "code",
   "execution_count": 64,
   "metadata": {
    "collapsed": false
   },
   "outputs": [],
   "source": [
    "new_soup = BeautifulSoup(open('./MyActivity.html', 'r', encoding='iso8859-1').read(), 'html.parser')\n",
    "\n",
    "for record in new_soup.find_all('div', 'outer-cell'):\n",
    "    new_record = parse_record(record)\n",
    "    if new_record:\n",
    "        full_records.append(new_record)"
   ]
  },
  {
   "cell_type": "code",
   "execution_count": 65,
   "metadata": {
    "collapsed": false
   },
   "outputs": [
    {
     "name": "stdout",
     "output_type": "stream",
     "text": [
      "14774\n",
      "[{'Target': 'https://productforums.google.com/forum/', 'Lon': None, 'Activity Type': 'Visited', 'Product': 'Search', 'Lat': None, 'Datestamp': 'Jan 31, 2018, 10:54:50 PM'}, {'Target': 'download \"my activity\" google', 'Lon': '-80.186813', 'Activity Type': 'Searched for', 'Product': 'Search', 'Lat': '25.794518', 'Datestamp': 'Jan 31, 2018, 10:54:45 PM'}, {'Target': 'https://support.google.com/accounts/answer?dupm_fake_answer_id=162744&hl=en', 'Lon': None, 'Activity Type': 'Visited', 'Product': 'Search', 'Lat': None, 'Datestamp': 'Jan 31, 2018, 10:53:48 PM'}, {'Target': 'google download my activity', 'Lon': '-80.186813', 'Activity Type': 'Searched for', 'Product': 'Search', 'Lat': '25.794518', 'Datestamp': 'Jan 31, 2018, 10:53:40 PM'}, {'Target': 'https://myactivity.google.com/', 'Lon': None, 'Activity Type': 'Visited', 'Product': 'Search', 'Lat': None, 'Datestamp': 'Jan 31, 2018, 10:53:04 PM'}, {'Target': 'google view my browsing history data', 'Lon': '-80.186813', 'Activity Type': 'Searched for', 'Product': 'Search', 'Lat': '25.794518', 'Datestamp': 'Jan 31, 2018, 10:53:00 PM'}, {'Target': 'https://support.google.com/accounts/answer?dupm_fake_answer_id=3024190&hl=en', 'Lon': None, 'Activity Type': 'Visited', 'Product': 'Search', 'Lat': None, 'Datestamp': 'Jan 31, 2018, 10:52:35 PM'}, {'Target': 'google get my data', 'Lon': '-80.186813', 'Activity Type': 'Searched for', 'Product': 'Search', 'Lat': '25.794518', 'Datestamp': 'Jan 31, 2018, 10:52:29 PM'}, {'Target': 'https://www.ngdata.com/the-rise-of-the-citizen-data-scientist/', 'Lon': None, 'Activity Type': 'Visited', 'Product': 'Search', 'Lat': None, 'Datestamp': 'Jan 31, 2018, 10:51:21 PM'}, {'Target': 'citizen data scientist', 'Lon': '-80.186813', 'Activity Type': 'Searched for', 'Product': 'Search', 'Lat': '25.794518', 'Datestamp': 'Jan 31, 2018, 10:50:59 PM'}]\n"
     ]
    }
   ],
   "source": [
    "print(len(full_records))\n",
    "print(full_records[0:10])"
   ]
  },
  {
   "cell_type": "markdown",
   "metadata": {},
   "source": [
    "Now we have a looot more records to deal with.  And they certainly aren't the easiest to read or navigate.  What we really want is a pretty, matrix structure, so that we can look at both the rows and columns.  A list of dictionaries is not quite that.  So what do we do?"
   ]
  },
  {
   "cell_type": "code",
   "execution_count": 66,
   "metadata": {
    "collapsed": false
   },
   "outputs": [
    {
     "data": {
      "text/plain": [
       "0"
      ]
     },
     "execution_count": 66,
     "metadata": {},
     "output_type": "execute_result"
    }
   ],
   "source": [
    "full_records.count(None)"
   ]
  },
  {
   "cell_type": "markdown",
   "metadata": {},
   "source": [
    "# Introducing Pandas"
   ]
  },
  {
   "cell_type": "code",
   "execution_count": 67,
   "metadata": {
    "collapsed": true
   },
   "outputs": [],
   "source": [
    "import pandas as pd"
   ]
  },
  {
   "cell_type": "code",
   "execution_count": 68,
   "metadata": {
    "collapsed": false
   },
   "outputs": [
    {
     "data": {
      "text/html": [
       "<div>\n",
       "<style>\n",
       "    .dataframe thead tr:only-child th {\n",
       "        text-align: right;\n",
       "    }\n",
       "\n",
       "    .dataframe thead th {\n",
       "        text-align: left;\n",
       "    }\n",
       "\n",
       "    .dataframe tbody tr th {\n",
       "        vertical-align: top;\n",
       "    }\n",
       "</style>\n",
       "<table border=\"1\" class=\"dataframe\">\n",
       "  <thead>\n",
       "    <tr style=\"text-align: right;\">\n",
       "      <th></th>\n",
       "      <th>Activity Type</th>\n",
       "      <th>Datestamp</th>\n",
       "      <th>Lat</th>\n",
       "      <th>Lon</th>\n",
       "      <th>Product</th>\n",
       "      <th>Target</th>\n",
       "    </tr>\n",
       "  </thead>\n",
       "  <tbody>\n",
       "    <tr>\n",
       "      <th>0</th>\n",
       "      <td>Visited</td>\n",
       "      <td>Jan 31, 2018, 10:54:50 PM</td>\n",
       "      <td>None</td>\n",
       "      <td>None</td>\n",
       "      <td>Search</td>\n",
       "      <td>https://productforums.google.com/forum/</td>\n",
       "    </tr>\n",
       "    <tr>\n",
       "      <th>1</th>\n",
       "      <td>Searched for</td>\n",
       "      <td>Jan 31, 2018, 10:54:45 PM</td>\n",
       "      <td>25.794518</td>\n",
       "      <td>-80.186813</td>\n",
       "      <td>Search</td>\n",
       "      <td>download \"my activity\" google</td>\n",
       "    </tr>\n",
       "    <tr>\n",
       "      <th>2</th>\n",
       "      <td>Visited</td>\n",
       "      <td>Jan 31, 2018, 10:53:48 PM</td>\n",
       "      <td>None</td>\n",
       "      <td>None</td>\n",
       "      <td>Search</td>\n",
       "      <td>https://support.google.com/accounts/answer?dup...</td>\n",
       "    </tr>\n",
       "    <tr>\n",
       "      <th>3</th>\n",
       "      <td>Searched for</td>\n",
       "      <td>Jan 31, 2018, 10:53:40 PM</td>\n",
       "      <td>25.794518</td>\n",
       "      <td>-80.186813</td>\n",
       "      <td>Search</td>\n",
       "      <td>google download my activity</td>\n",
       "    </tr>\n",
       "    <tr>\n",
       "      <th>4</th>\n",
       "      <td>Visited</td>\n",
       "      <td>Jan 31, 2018, 10:53:04 PM</td>\n",
       "      <td>None</td>\n",
       "      <td>None</td>\n",
       "      <td>Search</td>\n",
       "      <td>https://myactivity.google.com/</td>\n",
       "    </tr>\n",
       "  </tbody>\n",
       "</table>\n",
       "</div>"
      ],
      "text/plain": [
       "  Activity Type                  Datestamp        Lat         Lon Product  \\\n",
       "0       Visited  Jan 31, 2018, 10:54:50 PM       None        None  Search   \n",
       "1  Searched for  Jan 31, 2018, 10:54:45 PM  25.794518  -80.186813  Search   \n",
       "2       Visited  Jan 31, 2018, 10:53:48 PM       None        None  Search   \n",
       "3  Searched for  Jan 31, 2018, 10:53:40 PM  25.794518  -80.186813  Search   \n",
       "4       Visited  Jan 31, 2018, 10:53:04 PM       None        None  Search   \n",
       "\n",
       "                                              Target  \n",
       "0            https://productforums.google.com/forum/  \n",
       "1                      download \"my activity\" google  \n",
       "2  https://support.google.com/accounts/answer?dup...  \n",
       "3                        google download my activity  \n",
       "4                     https://myactivity.google.com/  "
      ]
     },
     "execution_count": 68,
     "metadata": {},
     "output_type": "execute_result"
    }
   ],
   "source": [
    "df = pd.DataFrame(full_records)\n",
    "df.head()"
   ]
  },
  {
   "cell_type": "code",
   "execution_count": null,
   "metadata": {
    "collapsed": true
   },
   "outputs": [],
   "source": []
  }
 ],
 "metadata": {
  "kernelspec": {
   "display_name": "Python [conda root]",
   "language": "python",
   "name": "conda-root-py"
  },
  "language_info": {
   "codemirror_mode": {
    "name": "ipython",
    "version": 3
   },
   "file_extension": ".py",
   "mimetype": "text/x-python",
   "name": "python",
   "nbconvert_exporter": "python",
   "pygments_lexer": "ipython3",
   "version": "3.5.2"
  }
 },
 "nbformat": 4,
 "nbformat_minor": 2
}
