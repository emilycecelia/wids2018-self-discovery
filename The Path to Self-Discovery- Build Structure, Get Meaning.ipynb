{
 "cells": [
  {
   "cell_type": "markdown",
   "metadata": {},
   "source": [
    "<div style=\"background-color:dodgerblue;height:100px;\"><br>\n",
    "<center><h1><font style=\"color:white\">The Path to Self-Discovery: Build Structure, Get Meaning</font></h1></center>\n",
    "</div>"
   ]
  },
  {
   "cell_type": "markdown",
   "metadata": {},
   "source": [
    "# Looking Back at the Past\n",
    "\n",
    "In order to move forward, we need to remember where we have been.\n",
    "\n",
    "When we left off, we had a list of records based off of our sample data.\n",
    "\n",
    "** As we said in the last lesson, all of this parsing is based off of assumptions.  Changes were made to the function below to account for some new conditions.**"
   ]
  },
  {
   "cell_type": "code",
   "execution_count": null,
   "metadata": {
    "collapsed": true
   },
   "outputs": [],
   "source": [
    "from bs4 import BeautifulSoup\n",
    "soup = BeautifulSoup(open('./My Activity - Sample.html', 'r', encoding='iso8859-1').read(), 'html.parser')"
   ]
  },
  {
   "cell_type": "code",
   "execution_count": null,
   "metadata": {
    "collapsed": false
   },
   "outputs": [],
   "source": [
    "import re\n",
    "\n",
    "location_pattern = '\\?q=([^\\s]+?),([^\\s]+)'\n",
    "\n",
    "def parse_record(element):\n",
    "    ### need to properly parse out the search target info.  first line, split on the visited or serached for, take the text from rest\n",
    "    section1 = element.find(\"div\", \"content-cell\")\n",
    "    \n",
    "    if section1.find(text=re.compile('Visited|Searched')):\n",
    "        section1_strings = list(section1.strings)\n",
    "        activity_type = None\n",
    "        target = None\n",
    "        datestamp = None\n",
    "        \n",
    "        if len(section1_strings)==3:\n",
    "            activity_type, target, datestamp = section1_strings\n",
    "        elif len(section1_strings)==2:\n",
    "            activity_type, target = section1_strings[0].split('\\xa0')\n",
    "            datestamp = section1_strings[-1]\n",
    "        else:\n",
    "            print('---Unknown----')\n",
    "            section1_strings\n",
    "            return None\n",
    "        activity_type = activity_type.replace('\\xa0', '').strip()\n",
    "\n",
    "        section2 = element.select(\"div.content-cell.mdl-typography--caption\")[0]\n",
    "        section_strings = list(section2.strings)\n",
    "        product = section_strings[1].replace('\\u2003','').strip()\n",
    "        lat = None\n",
    "        lon = None\n",
    "\n",
    "        if 'Locations:' in section_strings:\n",
    "            location_url = section2.find(\"a\",{\"href\":re.compile(\"https://google.com/maps\\?q=\")}).text\n",
    "            match = re.search(location_pattern, location_url)\n",
    "            if match:\n",
    "                lat, lon = match.groups()\n",
    "\n",
    "        data = {\n",
    "            'Activity Type': activity_type,\n",
    "            'Target': target,\n",
    "            'Datestamp': datestamp,\n",
    "            'Product': product,\n",
    "            'Lat':lat,\n",
    "            'Lon':lon\n",
    "        }\n",
    "\n",
    "        return data\n",
    "    \n",
    "    else:\n",
    "        return None\n",
    "\n",
    "my_records = []\n",
    "\n",
    "for record in soup.find_all('div', 'outer-cell'):\n",
    "    new_record = parse_record(record)\n",
    "    if new_record:\n",
    "        my_records.append(new_record)\n",
    "    \n",
    "for record in my_records:\n",
    "    print(record)"
   ]
  },
  {
   "cell_type": "markdown",
   "metadata": {},
   "source": [
    "## Exercise 1\n",
    "\n",
    "We ran this function over a sample dataset, but now we need to do it over the whole shabang!  Using everything you learned from the last lesson (and cheating with the example above), parse the records out of the full data file.  This is where you can use your own, or the dummy dataset we provided!"
   ]
  },
  {
   "cell_type": "code",
   "execution_count": null,
   "metadata": {
    "collapsed": true
   },
   "outputs": [],
   "source": [
    "full_records = []\n",
    "\n",
    "# YOUR WORK HERE\n"
   ]
  },
  {
   "cell_type": "code",
   "execution_count": null,
   "metadata": {
    "collapsed": false
   },
   "outputs": [],
   "source": [
    "new_soup = BeautifulSoup(open('./MyActivity.html', 'r', encoding='iso8859-1').read(), 'html.parser')\n",
    "\n",
    "for record in new_soup.find_all('div', 'outer-cell'):\n",
    "    new_record = parse_record(record)\n",
    "    if new_record:\n",
    "        full_records.append(new_record)"
   ]
  },
  {
   "cell_type": "code",
   "execution_count": null,
   "metadata": {
    "collapsed": false
   },
   "outputs": [],
   "source": [
    "print(len(full_records))\n",
    "print(full_records[0:10])"
   ]
  },
  {
   "cell_type": "markdown",
   "metadata": {},
   "source": [
    "Now we have a looot more records to deal with.  And they certainly aren't the easiest to read or navigate.  What we really want is a pretty, matrix structure, so that we can look at both the rows and columns.  A list of dictionaries is not quite that.  So what do we do?"
   ]
  },
  {
   "cell_type": "code",
   "execution_count": null,
   "metadata": {
    "collapsed": false
   },
   "outputs": [],
   "source": [
    "full_records.count(None)"
   ]
  },
  {
   "cell_type": "markdown",
   "metadata": {},
   "source": [
    "# Introducing Pandas\n",
    "\n",
    "Pandas is a Python library that makes it easy to load and manipulate 1-3 dimensional data.  These objects are called:\n",
    "* 1-D: Series\n",
    "* 2-D: DataFrame\n",
    "* 3-D: Panel\n",
    "\n",
    "We can generate these objects from:\n",
    "* CSV\n",
    "* Excel\n",
    "* HTML\n",
    "* List of dictionaries\n",
    "* List of lists\n",
    "* ..and more\n",
    "\n",
    "You should read all about how to create DataFrames, but since we have already built our data, the DataFrame constructor knows how to take our list of dictionaries in and make it pretty!"
   ]
  },
  {
   "cell_type": "code",
   "execution_count": null,
   "metadata": {
    "collapsed": true
   },
   "outputs": [],
   "source": [
    "import pandas as pd"
   ]
  },
  {
   "cell_type": "code",
   "execution_count": null,
   "metadata": {
    "collapsed": true
   },
   "outputs": [],
   "source": [
    "df = pd.DataFrame(full_records)"
   ]
  },
  {
   "cell_type": "markdown",
   "metadata": {},
   "source": [
    "We can preview this DataFrame using the `head` function."
   ]
  },
  {
   "cell_type": "code",
   "execution_count": null,
   "metadata": {
    "collapsed": false
   },
   "outputs": [],
   "source": [
    "df.head()"
   ]
  },
  {
   "cell_type": "code",
   "execution_count": null,
   "metadata": {
    "collapsed": false
   },
   "outputs": [],
   "source": [
    "df.head(2)"
   ]
  },
  {
   "cell_type": "markdown",
   "metadata": {},
   "source": [
    "Or we can grab the end of our DataFrame with `tail`."
   ]
  },
  {
   "cell_type": "code",
   "execution_count": null,
   "metadata": {
    "collapsed": false
   },
   "outputs": [],
   "source": [
    "df.tail(3)"
   ]
  },
  {
   "cell_type": "markdown",
   "metadata": {
    "collapsed": true
   },
   "source": [
    "# Starting Simple\n",
    "\n",
    "Right off the bat, pandas gives us some quick ways to scope our DataFrame.  Let's explore some of these basic operations."
   ]
  },
  {
   "cell_type": "code",
   "execution_count": null,
   "metadata": {
    "collapsed": false
   },
   "outputs": [],
   "source": [
    "len(df)"
   ]
  },
  {
   "cell_type": "code",
   "execution_count": null,
   "metadata": {
    "collapsed": false
   },
   "outputs": [],
   "source": [
    "df.size"
   ]
  },
  {
   "cell_type": "code",
   "execution_count": null,
   "metadata": {
    "collapsed": false
   },
   "outputs": [],
   "source": [
    "df.shape"
   ]
  },
  {
   "cell_type": "code",
   "execution_count": null,
   "metadata": {
    "collapsed": false
   },
   "outputs": [],
   "source": [
    "df.shape[0]*df.shape[1]"
   ]
  },
  {
   "cell_type": "code",
   "execution_count": null,
   "metadata": {
    "collapsed": false
   },
   "outputs": [],
   "source": [
    "len(df.columns)"
   ]
  },
  {
   "cell_type": "code",
   "execution_count": null,
   "metadata": {
    "collapsed": false
   },
   "outputs": [],
   "source": [
    "df.columns"
   ]
  },
  {
   "cell_type": "code",
   "execution_count": null,
   "metadata": {
    "collapsed": false
   },
   "outputs": [],
   "source": [
    "df.describe()"
   ]
  },
  {
   "cell_type": "code",
   "execution_count": null,
   "metadata": {
    "collapsed": false
   },
   "outputs": [],
   "source": [
    "df.count()"
   ]
  },
  {
   "cell_type": "code",
   "execution_count": null,
   "metadata": {
    "collapsed": false
   },
   "outputs": [],
   "source": [
    "df['Activity Type'].count()"
   ]
  },
  {
   "cell_type": "markdown",
   "metadata": {},
   "source": [
    "# The Data Type Cleanse\n",
    "\n",
    "We can list the data types of each column using the `dtypes` command."
   ]
  },
  {
   "cell_type": "code",
   "execution_count": null,
   "metadata": {
    "collapsed": false
   },
   "outputs": [],
   "source": [
    "df.dtypes"
   ]
  },
  {
   "cell_type": "code",
   "execution_count": null,
   "metadata": {
    "collapsed": false
   },
   "outputs": [],
   "source": [
    "df.head()"
   ]
  },
  {
   "cell_type": "markdown",
   "metadata": {},
   "source": [
    "We can also change a columns data type, or cast it as a new type, using the `astype` command."
   ]
  },
  {
   "cell_type": "code",
   "execution_count": null,
   "metadata": {
    "collapsed": false
   },
   "outputs": [],
   "source": [
    "df['Lat'] = df['Lat'].astype(float)\n",
    "df['Lon'] = df['Lon'].astype(float)\n",
    "df.dtypes"
   ]
  },
  {
   "cell_type": "markdown",
   "metadata": {},
   "source": [
    "We stil would like to get the Datestamp column in a more friendly format, though.  The way it is now could trip us up, because calculations will be performed as if the column is a string."
   ]
  },
  {
   "cell_type": "code",
   "execution_count": null,
   "metadata": {
    "collapsed": false
   },
   "outputs": [],
   "source": [
    "df['Datestamp'].min()"
   ]
  },
  {
   "cell_type": "code",
   "execution_count": null,
   "metadata": {
    "collapsed": false
   },
   "outputs": [],
   "source": [
    "df.Datestamp.max()"
   ]
  },
  {
   "cell_type": "markdown",
   "metadata": {},
   "source": [
    "Luckily, pandas `to_datetime` command easily parses our datestamps without us having to do any date formatting!"
   ]
  },
  {
   "cell_type": "code",
   "execution_count": null,
   "metadata": {
    "collapsed": true
   },
   "outputs": [],
   "source": [
    "df['Datestamp'] = pd.to_datetime(df['Datestamp'])"
   ]
  },
  {
   "cell_type": "code",
   "execution_count": null,
   "metadata": {
    "collapsed": false
   },
   "outputs": [],
   "source": [
    "df['Datestamp'].min()"
   ]
  },
  {
   "cell_type": "code",
   "execution_count": null,
   "metadata": {
    "collapsed": false
   },
   "outputs": [],
   "source": [
    "df['Datestamp'].max()"
   ]
  },
  {
   "cell_type": "markdown",
   "metadata": {},
   "source": [
    "# Filtering Out the Muck\n",
    "\n",
    "Pandas also allows us to easily filter our data!  We can use some really simple syntax for this."
   ]
  },
  {
   "cell_type": "code",
   "execution_count": null,
   "metadata": {
    "collapsed": false
   },
   "outputs": [],
   "source": [
    "df.head()"
   ]
  },
  {
   "cell_type": "code",
   "execution_count": null,
   "metadata": {
    "collapsed": false
   },
   "outputs": [],
   "source": [
    "df[df['Target']=='download \"my activity\" google']"
   ]
  },
  {
   "cell_type": "code",
   "execution_count": null,
   "metadata": {
    "collapsed": false
   },
   "outputs": [],
   "source": [
    "df[df['Lat'].isnull()].head()"
   ]
  },
  {
   "cell_type": "markdown",
   "metadata": {},
   "source": [
    "# Asking Questions of Our Data Using Pandas\n",
    "\n",
    "Now, armed with this small set of tools, let's use pandas to answer some questions we would commonly have about our data!"
   ]
  },
  {
   "cell_type": "markdown",
   "metadata": {},
   "source": [
    "## Exercise 2\n",
    "How many rows of data are in the dataset?"
   ]
  },
  {
   "cell_type": "code",
   "execution_count": null,
   "metadata": {
    "collapsed": true
   },
   "outputs": [],
   "source": []
  },
  {
   "cell_type": "markdown",
   "metadata": {},
   "source": [
    "## Exercise 3\n",
    "\n",
    "How many search activities searched for 'google drive'?"
   ]
  },
  {
   "cell_type": "code",
   "execution_count": null,
   "metadata": {
    "collapsed": false
   },
   "outputs": [],
   "source": []
  },
  {
   "cell_type": "markdown",
   "metadata": {},
   "source": [
    "## Exercise 4\n",
    "\n",
    "What is the median timestamp in the dataset?"
   ]
  },
  {
   "cell_type": "code",
   "execution_count": null,
   "metadata": {
    "collapsed": true
   },
   "outputs": [],
   "source": []
  },
  {
   "cell_type": "markdown",
   "metadata": {},
   "source": [
    "## Exercise 5\n",
    "\n",
    "What are the average latitude and longitude?"
   ]
  },
  {
   "cell_type": "code",
   "execution_count": null,
   "metadata": {
    "collapsed": true
   },
   "outputs": [],
   "source": []
  },
  {
   "cell_type": "markdown",
   "metadata": {},
   "source": [
    "## <i> Challenge Question</i>: Exercise 6 \n",
    "\n",
    "What was the top search made on July 4, 2017?"
   ]
  },
  {
   "cell_type": "code",
   "execution_count": null,
   "metadata": {
    "collapsed": false
   },
   "outputs": [],
   "source": []
  },
  {
   "cell_type": "markdown",
   "metadata": {},
   "source": [
    "# Save Your Status\n",
    "\n",
    "So that we can use our data again, let's save off what we've done so far!"
   ]
  },
  {
   "cell_type": "code",
   "execution_count": null,
   "metadata": {
    "collapsed": true
   },
   "outputs": [],
   "source": [
    "df.to_csv('MyStructuredSearch.csv', index=False, encoding='utf-8')"
   ]
  }
 ],
 "metadata": {
  "anaconda-cloud": {},
  "kernelspec": {
   "display_name": "Python [conda root]",
   "language": "python",
   "name": "conda-root-py"
  },
  "language_info": {
   "codemirror_mode": {
    "name": "ipython",
    "version": 3
   },
   "file_extension": ".py",
   "mimetype": "text/x-python",
   "name": "python",
   "nbconvert_exporter": "python",
   "pygments_lexer": "ipython3",
   "version": "3.5.2"
  }
 },
 "nbformat": 4,
 "nbformat_minor": 2
}
