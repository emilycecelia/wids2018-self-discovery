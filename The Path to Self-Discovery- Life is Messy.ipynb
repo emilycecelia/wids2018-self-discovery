{
 "cells": [
  {
   "cell_type": "markdown",
   "metadata": {},
   "source": [
    "<div style=\"background-color:dodgerblue;height:100px;\"><br>\n",
    "<center><h1><font style=\"color:white\">The Path to Self-Discovery: Life Is Messy</font></h1></center>\n",
    "</div>"
   ]
  },
  {
   "cell_type": "markdown",
   "metadata": {
    "nbpresent": {
     "id": "c5b2356b-b58f-4ac4-8d41-6a452070189e"
    }
   },
   "source": [
    "# Finding Structure in Semi-Structured Data"
   ]
  },
  {
   "cell_type": "code",
   "execution_count": null,
   "metadata": {
    "collapsed": true,
    "nbpresent": {
     "id": "31417e6a-9478-4087-a497-fd7a89058a84"
    }
   },
   "outputs": [],
   "source": [
    "from IPython.display import HTML"
   ]
  },
  {
   "cell_type": "markdown",
   "metadata": {
    "nbpresent": {
     "id": "04172c2b-1d10-4a6b-97b1-2c1054c064a2"
    }
   },
   "source": [
    "The search result data we have been given comes in the HTML format.  This format does have structure, but it is not as pretty and easy to use as many.  So, let's start by working with a sample set to understand this structure."
   ]
  },
  {
   "cell_type": "code",
   "execution_count": null,
   "metadata": {
    "collapsed": false,
    "nbpresent": {
     "id": "709f2c20-29ba-4cfb-a16e-8c0b8e9b792e"
    }
   },
   "outputs": [],
   "source": [
    "HTML(filename='My Activity - Sample.html')"
   ]
  },
  {
   "cell_type": "markdown",
   "metadata": {
    "nbpresent": {
     "id": "58d7cf3e-ae12-4d06-ae20-ff29a39c8326"
    }
   },
   "source": [
    "Now this looks nice and organized as an HTML page, but it looks a little weirder if we just read the text straight up."
   ]
  },
  {
   "cell_type": "code",
   "execution_count": null,
   "metadata": {
    "collapsed": false,
    "nbpresent": {
     "id": "1037371c-4efd-42de-a0cf-43306c56d4a2"
    }
   },
   "outputs": [],
   "source": [
    "open('./MyActivity - Copy.html', encoding='iso8859-1').read()"
   ]
  },
  {
   "cell_type": "markdown",
   "metadata": {
    "nbpresent": {
     "id": "6dc0ad7d-9ea8-4120-8a92-2c4775a88c51"
    }
   },
   "source": [
    "## Exercise 1\n",
    "### Welcome to your first exercise!  Remember, if you get stuck, use those around you.  And Google is your friend!\n",
    "\n",
    "Find the HTML tag we can use to separate out our records.  Hint: this is easier to do if you just open up the browser and <i>inspect</i> what you're looking at.\n",
    "\n",
    "<a href='./MyActivity - Copy.html'>Click here to view page</a>"
   ]
  },
  {
   "cell_type": "markdown",
   "metadata": {
    "nbpresent": {
     "id": "3ba7ec7e-0a2f-4428-9cf0-3698a09f95c2"
    }
   },
   "source": [
    "# Introducing BeautifulSoup"
   ]
  },
  {
   "cell_type": "markdown",
   "metadata": {
    "nbpresent": {
     "id": "b959e074-f02b-468d-8fe0-7bcc54824e96"
    }
   },
   "source": [
    "<a href=\"https://www.crummy.com/software/BeautifulSoup/\"><i>From the Beautiful Soup website.</i></a>\n",
    "\n",
    "Beautiful Soup is a Python library designed for quick turnaround projects like screen-scraping. Three features make it powerful:\n",
    "\n",
    "1. Beautiful Soup provides a few simple methods and Pythonic idioms for navigating, searching, and modifying a parse tree: a toolkit for dissecting a document and extracting what you need. It doesn't take much code to write an application\n",
    "2. Beautiful Soup automatically converts incoming documents to Unicode and outgoing documents to UTF-8. You don't have to think about encodings, unless the document doesn't specify an encoding and Beautiful Soup can't detect one. Then you just have to specify the original encoding.\n",
    "3. Beautiful Soup sits on top of popular Python parsers like lxml and html5lib, allowing you to try out different parsing strategies or trade speed for flexibility.\n",
    "\n",
    "BeautifulSoup starts with a very simple step: Let's make some soup!"
   ]
  },
  {
   "cell_type": "code",
   "execution_count": null,
   "metadata": {
    "collapsed": false,
    "nbpresent": {
     "id": "de47714d-9cd6-486f-b874-111ce8979a66"
    }
   },
   "outputs": [],
   "source": [
    "from bs4 import BeautifulSoup\n",
    "soup = BeautifulSoup(open('./My Activity - Sample.html', 'r', encoding='iso8859-1').read(), 'html.parser')"
   ]
  },
  {
   "cell_type": "markdown",
   "metadata": {
    "nbpresent": {
     "id": "17fc8470-c64b-4047-a8c7-0d7c0bd1eab4"
    }
   },
   "source": [
    "BeautifulSoup allows us to grab elements of an HTML document in a variety of ways.\n",
    "\n",
    "We can grab items by their tag:"
   ]
  },
  {
   "cell_type": "code",
   "execution_count": null,
   "metadata": {
    "collapsed": false,
    "nbpresent": {
     "id": "6e3935aa-d5c4-438a-88c3-e9fa3ae0786d"
    }
   },
   "outputs": [],
   "source": [
    "soup.title"
   ]
  },
  {
   "cell_type": "code",
   "execution_count": null,
   "metadata": {
    "collapsed": false,
    "nbpresent": {
     "id": "68dc24c1-a728-4989-94c5-77ec8513fd4b"
    }
   },
   "outputs": [],
   "source": [
    "soup.title.name"
   ]
  },
  {
   "cell_type": "code",
   "execution_count": null,
   "metadata": {
    "collapsed": false,
    "nbpresent": {
     "id": "642268c6-9fe2-4ea5-b888-c07ab9effe30"
    }
   },
   "outputs": [],
   "source": [
    "soup.title.string"
   ]
  },
  {
   "cell_type": "code",
   "execution_count": null,
   "metadata": {
    "collapsed": false,
    "nbpresent": {
     "id": "5487f249-236a-4017-a77e-b9c7da5ae750"
    }
   },
   "outputs": [],
   "source": [
    "soup.title.parent.name"
   ]
  },
  {
   "cell_type": "code",
   "execution_count": null,
   "metadata": {
    "collapsed": false,
    "nbpresent": {
     "id": "7a4f3d75-7d2e-4c23-94f3-fb6c995a42d3"
    }
   },
   "outputs": [],
   "source": [
    "soup.p"
   ]
  },
  {
   "cell_type": "code",
   "execution_count": null,
   "metadata": {
    "collapsed": false,
    "nbpresent": {
     "id": "ba9b5a4c-219b-4c0d-82ca-90878a4fd6a7"
    }
   },
   "outputs": [],
   "source": [
    "soup.p['class']"
   ]
  },
  {
   "cell_type": "code",
   "execution_count": null,
   "metadata": {
    "collapsed": false,
    "nbpresent": {
     "id": "347b83ff-543e-407d-b455-8e8c95b28dc9"
    }
   },
   "outputs": [],
   "source": [
    "soup.a"
   ]
  },
  {
   "cell_type": "code",
   "execution_count": null,
   "metadata": {
    "collapsed": false,
    "nbpresent": {
     "id": "482646f9-93fe-4e7c-b0e7-61ad3d10fa7c"
    }
   },
   "outputs": [],
   "source": [
    "soup.find('p','mdl-typography--title')"
   ]
  },
  {
   "cell_type": "code",
   "execution_count": null,
   "metadata": {
    "collapsed": false,
    "nbpresent": {
     "id": "db2fd06e-d28f-4b27-b281-19385d159363"
    }
   },
   "outputs": [],
   "source": [
    "soup.find_all('a')"
   ]
  },
  {
   "cell_type": "markdown",
   "metadata": {},
   "source": [
    "## Exercise 2\n",
    "Use BeautifulSoup functions to do the following:\n",
    "1.  Count the number of divs in the html document.\n",
    "2.  Find the first link element in the document (`<a>`).\n",
    "3.  Find the actual link in that link tag."
   ]
  },
  {
   "cell_type": "markdown",
   "metadata": {
    "nbpresent": {
     "id": "2ac00edc-5f49-4d9c-9bd6-7a8cee408af6"
    }
   },
   "source": [
    "# Pick up the Parsing!\n",
    "Another neat option BeautifulSoup gives you is a method to spiffy up the appearance of your HTML so that it is easier to read:\n",
    "\n",
    "<i> Now let's prettify!</i>  See how the prettify command makes your HTML much easier to read."
   ]
  },
  {
   "cell_type": "code",
   "execution_count": null,
   "metadata": {
    "collapsed": false,
    "nbpresent": {
     "id": "c7e97cd6-a06d-41ba-b7b7-7b46f63fa6c4"
    }
   },
   "outputs": [],
   "source": [
    "print(soup.body.prettify())"
   ]
  },
  {
   "cell_type": "markdown",
   "metadata": {},
   "source": [
    "Now let's recall from our first exercise that it is a `<div>` tag with the class `\"outer-cell\"` that will help us find each of our records.  Then we will have to parse them.  Let's do this with the first instance of this element."
   ]
  },
  {
   "cell_type": "code",
   "execution_count": null,
   "metadata": {
    "collapsed": false,
    "nbpresent": {
     "id": "b5611455-a694-4974-b92a-fcb8ebd2572f"
    }
   },
   "outputs": [],
   "source": [
    "record1 = soup.body.find(\"div\", \"outer-cell\")\n",
    "print(record1.prettify())"
   ]
  },
  {
   "cell_type": "markdown",
   "metadata": {},
   "source": [
    "Now let's take a prettier look at just this piece:"
   ]
  },
  {
   "cell_type": "code",
   "execution_count": null,
   "metadata": {
    "collapsed": false
   },
   "outputs": [],
   "source": [
    "HTML(data=str(record1))"
   ]
  },
  {
   "cell_type": "markdown",
   "metadata": {},
   "source": [
    "There are several pieces of information we want to extract from this data: the activity (Visited), the url (https://productforums...), the date (Jan 31...) and the Products used (Search).  Let's see how we can extract each of these."
   ]
  },
  {
   "cell_type": "markdown",
   "metadata": {},
   "source": [
    "Our first few pieces of data are contained in a `<div>` element with the class \"content-cell\"."
   ]
  },
  {
   "cell_type": "code",
   "execution_count": null,
   "metadata": {
    "collapsed": false
   },
   "outputs": [],
   "source": [
    "section1 = record1.find(\"div\", \"content-cell\")\n",
    "print(section1.prettify())"
   ]
  },
  {
   "cell_type": "markdown",
   "metadata": {},
   "source": [
    "We see that each of our pieces of data are located in the text portion between tags.  Thankfully, BeautifulSoup has an easy way to pull these out!:\n",
    "\n",
    "`.strings`"
   ]
  },
  {
   "cell_type": "code",
   "execution_count": null,
   "metadata": {
    "collapsed": false
   },
   "outputs": [],
   "source": [
    "print(list(section1.strings))"
   ]
  },
  {
   "cell_type": "markdown",
   "metadata": {},
   "source": [
    "Thanks to Google (Search.. it's everywhere!), I know that that weird `\\xa0` actually represents a space in the latin-1 encoding, so I can just remove it."
   ]
  },
  {
   "cell_type": "code",
   "execution_count": null,
   "metadata": {
    "collapsed": false
   },
   "outputs": [],
   "source": [
    "activity_type, target, datestamp = list(section1.strings)\n",
    "activity_type = activity_type.replace('\\xa0', '')\n",
    "print('Activity Type:', activity_type)\n",
    "print('Target:', target)\n",
    "print('Datestamp:', datestamp)"
   ]
  },
  {
   "cell_type": "markdown",
   "metadata": {},
   "source": [
    "The next set of data we want to grab is our product information.  Looking at our html content, we can see that it too is in a `\"content-cell\"`, but also one of class `\"mdl-typography--caption\"`"
   ]
  },
  {
   "cell_type": "code",
   "execution_count": null,
   "metadata": {
    "collapsed": false
   },
   "outputs": [],
   "source": [
    "record1.find(\"div\", \"content-cell\", \"mdl-typography--caption\")"
   ]
  },
  {
   "cell_type": "markdown",
   "metadata": {},
   "source": [
    "Shoot!  That gives me my first record again.  What we find here is that when I express the two classes this way, they become an 'or' option, rather than an 'and'.\n",
    "\n",
    "A way we can achieve that 'and' criteria is using the css selector."
   ]
  },
  {
   "cell_type": "code",
   "execution_count": null,
   "metadata": {
    "collapsed": false,
    "scrolled": true
   },
   "outputs": [],
   "source": [
    "record1.select(\"div.content-cell.mdl-typography--caption\")"
   ]
  },
  {
   "cell_type": "code",
   "execution_count": null,
   "metadata": {
    "collapsed": false
   },
   "outputs": [],
   "source": [
    "section2 = record1.select(\"div.content-cell.mdl-typography--caption\")[0]\n",
    "print(list(section2.strings))"
   ]
  },
  {
   "cell_type": "code",
   "execution_count": null,
   "metadata": {
    "collapsed": true
   },
   "outputs": [],
   "source": [
    "product = list(section2.strings)[1].replace('\\u2003','')"
   ]
  },
  {
   "cell_type": "markdown",
   "metadata": {},
   "source": [
    "Now let's look at it all together!"
   ]
  },
  {
   "cell_type": "code",
   "execution_count": null,
   "metadata": {
    "collapsed": false
   },
   "outputs": [],
   "source": [
    "HTML(data=str(record1))"
   ]
  },
  {
   "cell_type": "code",
   "execution_count": null,
   "metadata": {
    "collapsed": false
   },
   "outputs": [],
   "source": [
    "print('Activity Type:', activity_type)\n",
    "print('Target:', target)\n",
    "print('Datestamp:', datestamp)\n",
    "print('Product:', product)"
   ]
  },
  {
   "cell_type": "markdown",
   "metadata": {},
   "source": [
    "We did it!  We were able to extract each piece of data from the HTML.  Now let's put this into a function so that we can apply it more easily."
   ]
  },
  {
   "cell_type": "code",
   "execution_count": null,
   "metadata": {
    "collapsed": false
   },
   "outputs": [],
   "source": [
    "def parse_record(element):\n",
    "    section1 = element.find(\"div\", \"content-cell\")\n",
    "    activity_type, target, datestamp = list(section1.strings)\n",
    "    activity_type = activity_type.replace('\\xa0', '').strip()\n",
    "    target = target.strip()\n",
    "    datestamp = datestamp.strip()\n",
    "    \n",
    "    section2 = element.select(\"div.content-cell.mdl-typography--caption\")[0]\n",
    "    product = list(section2.strings)[1].replace('\\u2003','').strip()\n",
    "    \n",
    "    data = {\n",
    "        'Activity Type': activity_type,\n",
    "        'Target': target,\n",
    "        'Datestamp': datestamp,\n",
    "        'Product': product\n",
    "    }\n",
    "    \n",
    "    return data\n",
    "\n",
    "parse_record(record1)"
   ]
  },
  {
   "cell_type": "markdown",
   "metadata": {},
   "source": [
    "## Exercise 3a\n",
    "Use BeautifulSoup to find all of the records.  \n",
    "\n",
    "For each record, use the `parse_record` function to add the resulting dictionary to a list of dictionaries, `my_records`.\n",
    "\n",
    "If your solution is correct, the final two `print` statements in the cell below should say `True`."
   ]
  },
  {
   "cell_type": "code",
   "execution_count": null,
   "metadata": {
    "collapsed": false
   },
   "outputs": [],
   "source": [
    "from operator import itemgetter\n",
    "\n",
    "my_records = []\n",
    "\n",
    "#DO YOUR WORK HERE\n",
    "    \n",
    "print('---Tests---')\n",
    "print(len(my_records)==3)\n",
    "print(sorted(my_records, key=itemgetter('Datestamp'))[0]['Datestamp']=='Feb 8, 2017, 12:32:36 AM')"
   ]
  },
  {
   "cell_type": "markdown",
   "metadata": {},
   "source": [
    "## <u> Challenge Exercise</u>:  Exercise 3b\n",
    "Looking at our records, you will see that one of the records has location data in it, which we have not extracted in our function.  Examine the record and modify the `parse_record` function so that it will extract the location data as well.  Below is just that HTML for you to examine.\n",
    "\n",
    "Hint: If you know how to use the `re` library in Python, I'd try employing the power of `re.search` using the pattern: `'\\?q=([^\\s]+?),([^\\s]+)'`"
   ]
  },
  {
   "cell_type": "code",
   "execution_count": null,
   "metadata": {
    "collapsed": false
   },
   "outputs": [],
   "source": [
    "location_cell = soup.body.find_all(\"div\", \"outer-cell\")[-1]\n",
    "HTML(data=str(location_record))"
   ]
  },
  {
   "cell_type": "code",
   "execution_count": null,
   "metadata": {
    "collapsed": false
   },
   "outputs": [],
   "source": [
    "print(location_cell.prettify())"
   ]
  },
  {
   "cell_type": "code",
   "execution_count": null,
   "metadata": {
    "collapsed": false
   },
   "outputs": [],
   "source": [
    "\n",
    "# DO YOUR WORK HERE\n"
   ]
  },
  {
   "cell_type": "markdown",
   "metadata": {
    "collapsed": false
   },
   "source": [
    "# Section Conclusion\n",
    "\n",
    "In this lesson, you learned how to:\n",
    "* Load an HTML file into BeautifulSoup\n",
    "* Use BeautifulSoup to search an HTML document\n",
    "* Use BeautifulSoup to extract data from an HTML document\n",
    "\n",
    "### It is important to remember that our parsing of this data is based on an assumption that there is a repeated structure to each record.  But, as you saw before, we missed a data element when we only looked at the first record.  Assumptions are necessary to data analysis, but always be ready for your assumptions to be broken."
   ]
  }
 ],
 "metadata": {
  "anaconda-cloud": {},
  "kernelspec": {
   "display_name": "Python [conda root]",
   "language": "python",
   "name": "conda-root-py"
  },
  "language_info": {
   "codemirror_mode": {
    "name": "ipython",
    "version": 3
   },
   "file_extension": ".py",
   "mimetype": "text/x-python",
   "name": "python",
   "nbconvert_exporter": "python",
   "pygments_lexer": "ipython3",
   "version": "3.5.2"
  },
  "nbpresent": {
   "slides": {
    "0099dadf-7e5f-4230-909e-3732637b3721": {
     "id": "0099dadf-7e5f-4230-909e-3732637b3721",
     "prev": "67e78541-bbf0-4837-b720-cbee12c4094a",
     "regions": {
      "9893029d-5dd8-4e4e-b9f9-3c963161eeab": {
       "attrs": {
        "height": 0.8,
        "width": 0.8,
        "x": 0.1,
        "y": 0.1
       },
       "content": {
        "cell": "642268c6-9fe2-4ea5-b888-c07ab9effe30",
        "part": "whole"
       },
       "id": "9893029d-5dd8-4e4e-b9f9-3c963161eeab"
      }
     }
    },
    "0584323c-521f-43c2-b324-03e6260d6fa6": {
     "id": "0584323c-521f-43c2-b324-03e6260d6fa6",
     "prev": null,
     "regions": {
      "06c15185-b779-4e2f-b6aa-465edf47e21e": {
       "attrs": {
        "height": 0.8,
        "width": 0.8,
        "x": 0.1,
        "y": 0.1
       },
       "content": {
        "cell": "31417e6a-9478-4087-a497-fd7a89058a84",
        "part": "whole"
       },
       "id": "06c15185-b779-4e2f-b6aa-465edf47e21e"
      }
     }
    },
    "238809f1-f488-4f48-a7da-31024e775461": {
     "id": "238809f1-f488-4f48-a7da-31024e775461",
     "prev": "5813c58b-8fcf-4193-89b9-be9c4fbfed46",
     "regions": {
      "b1599925-9749-40f9-83b0-6983d8e62faa": {
       "attrs": {
        "height": 0.8,
        "width": 0.8,
        "x": 0.1,
        "y": 0.1
       },
       "content": {
        "cell": "3b18b3db-874d-4436-914f-edaf14365625",
        "part": "whole"
       },
       "id": "b1599925-9749-40f9-83b0-6983d8e62faa"
      }
     }
    },
    "25ce87a2-e27c-4255-bfd6-ca7a1a227bf0": {
     "id": "25ce87a2-e27c-4255-bfd6-ca7a1a227bf0",
     "prev": "cb0067d9-e663-48a7-b402-d2b9e5a732ab",
     "regions": {
      "629ec66d-6c05-49ac-84c7-253bfe3abab8": {
       "attrs": {
        "height": 0.8,
        "width": 0.8,
        "x": 0.1,
        "y": 0.1
       },
       "content": {
        "cell": "db2fd06e-d28f-4b27-b281-19385d159363",
        "part": "whole"
       },
       "id": "629ec66d-6c05-49ac-84c7-253bfe3abab8"
      }
     }
    },
    "3a8b0bb8-78e5-478b-9e93-091908caffd6": {
     "id": "3a8b0bb8-78e5-478b-9e93-091908caffd6",
     "prev": "800ebf0b-94cd-4327-a353-c1ae7fc7bc0e",
     "regions": {
      "3ded230b-b2bc-4ed9-b5ba-6e37eac714bb": {
       "attrs": {
        "height": 0.8,
        "width": 0.8,
        "x": 0.1,
        "y": 0.1
       },
       "content": {
        "cell": "58d7cf3e-ae12-4d06-ae20-ff29a39c8326",
        "part": "whole"
       },
       "id": "3ded230b-b2bc-4ed9-b5ba-6e37eac714bb"
      }
     }
    },
    "43da124f-83cd-45b1-bdee-03b03fd59edf": {
     "id": "43da124f-83cd-45b1-bdee-03b03fd59edf",
     "prev": "adaad343-3c92-4f2f-bc01-f2dc107991b2",
     "regions": {
      "f5c30242-437c-4e92-bb92-d363f6c174a5": {
       "attrs": {
        "height": 0.8,
        "width": 0.8,
        "x": 0.1,
        "y": 0.1
       },
       "content": {
        "cell": "3ba7ec7e-0a2f-4428-9cf0-3698a09f95c2",
        "part": "whole"
       },
       "id": "f5c30242-437c-4e92-bb92-d363f6c174a5"
      }
     }
    },
    "465b52c4-bf5d-4309-81b8-1cae41e84a6d": {
     "id": "465b52c4-bf5d-4309-81b8-1cae41e84a6d",
     "prev": "79b0f6b9-f11f-49b2-a00b-a9df5f5b3986",
     "regions": {
      "4478f45d-a33a-446f-a0c6-9a329e4574a5": {
       "attrs": {
        "height": 0.8,
        "width": 0.8,
        "x": 0.1,
        "y": 0.1
       },
       "content": {
        "cell": "d95b84ed-bcbc-48a6-9bfc-ba975332e197",
        "part": "whole"
       },
       "id": "4478f45d-a33a-446f-a0c6-9a329e4574a5"
      }
     }
    },
    "4823eebf-3cff-46ef-97c2-29d593f6f5ba": {
     "id": "4823eebf-3cff-46ef-97c2-29d593f6f5ba",
     "prev": "0099dadf-7e5f-4230-909e-3732637b3721",
     "regions": {
      "660d3451-e741-485b-8fc1-5b27972e3fc1": {
       "attrs": {
        "height": 0.8,
        "width": 0.8,
        "x": 0.1,
        "y": 0.1
       },
       "content": {
        "cell": "5487f249-236a-4017-a77e-b9c7da5ae750",
        "part": "whole"
       },
       "id": "660d3451-e741-485b-8fc1-5b27972e3fc1"
      }
     }
    },
    "48d03fa8-2281-4d9a-8c6e-f62815942659": {
     "id": "48d03fa8-2281-4d9a-8c6e-f62815942659",
     "prev": "238809f1-f488-4f48-a7da-31024e775461",
     "regions": {
      "2fe47868-5bb5-420b-b9a1-7591ee5c1f00": {
       "attrs": {
        "height": 0.8,
        "width": 0.8,
        "x": 0.1,
        "y": 0.1
       },
       "content": {
        "cell": "4698d27e-0e24-452a-a53d-43c47d8c1eb3",
        "part": "whole"
       },
       "id": "2fe47868-5bb5-420b-b9a1-7591ee5c1f00"
      }
     }
    },
    "5517da75-0204-4a39-998a-1fa3fcfb4761": {
     "id": "5517da75-0204-4a39-998a-1fa3fcfb4761",
     "prev": "25ce87a2-e27c-4255-bfd6-ca7a1a227bf0",
     "regions": {
      "3e02e509-f6ca-4a33-bac8-fa75b7cd87cc": {
       "attrs": {
        "height": 0.8,
        "width": 0.8,
        "x": 0.1,
        "y": 0.1
       },
       "content": {
        "cell": "2ac00edc-5f49-4d9c-9bd6-7a8cee408af6",
        "part": "whole"
       },
       "id": "3e02e509-f6ca-4a33-bac8-fa75b7cd87cc"
      }
     }
    },
    "5813c58b-8fcf-4193-89b9-be9c4fbfed46": {
     "id": "5813c58b-8fcf-4193-89b9-be9c4fbfed46",
     "prev": "efd4b20b-7b20-4813-bce8-9b315fb851b9",
     "regions": {
      "e794113e-2d97-4e97-b301-aa9996b14425": {
       "attrs": {
        "height": 0.8,
        "width": 0.8,
        "x": 0.1,
        "y": 0.1
       },
       "content": {
        "cell": "b5611455-a694-4974-b92a-fcb8ebd2572f",
        "part": "whole"
       },
       "id": "e794113e-2d97-4e97-b301-aa9996b14425"
      }
     }
    },
    "5a4986cb-78e9-47fb-9444-58968ca64209": {
     "id": "5a4986cb-78e9-47fb-9444-58968ca64209",
     "prev": "0584323c-521f-43c2-b324-03e6260d6fa6",
     "regions": {
      "3b1005d2-577d-484f-8153-af54dc50dd8a": {
       "attrs": {
        "height": 0.8,
        "width": 0.8,
        "x": 0.1,
        "y": 0.1
       },
       "content": {
        "cell": "04172c2b-1d10-4a6b-97b1-2c1054c064a2",
        "part": "whole"
       },
       "id": "3b1005d2-577d-484f-8153-af54dc50dd8a"
      }
     }
    },
    "61e27643-b0e4-46c9-9a0f-ca8df5f5a774": {
     "id": "61e27643-b0e4-46c9-9a0f-ca8df5f5a774",
     "prev": "63e6523e-9c4a-41f8-b2b0-261de0a3346f",
     "regions": {
      "6c8ff965-7d97-4865-9fe8-b075a661a99a": {
       "attrs": {
        "height": 0.8,
        "width": 0.8,
        "x": 0.1,
        "y": 0.1
       },
       "content": {
        "cell": "b8aeb7d5-f2c5-4857-9802-953d9762c4a7",
        "part": "whole"
       },
       "id": "6c8ff965-7d97-4865-9fe8-b075a661a99a"
      }
     }
    },
    "637364c2-bd1b-45e6-9a58-08373380ad63": {
     "id": "637364c2-bd1b-45e6-9a58-08373380ad63",
     "prev": "3a8b0bb8-78e5-478b-9e93-091908caffd6",
     "regions": {
      "caf61cea-af6b-4a1d-bfa4-9ce04e3f6185": {
       "attrs": {
        "height": 0.8,
        "width": 0.8,
        "x": 0.1,
        "y": 0.1
       },
       "content": {
        "cell": "1037371c-4efd-42de-a0cf-43306c56d4a2",
        "part": "whole"
       },
       "id": "caf61cea-af6b-4a1d-bfa4-9ce04e3f6185"
      }
     }
    },
    "63e6523e-9c4a-41f8-b2b0-261de0a3346f": {
     "id": "63e6523e-9c4a-41f8-b2b0-261de0a3346f",
     "prev": "48d03fa8-2281-4d9a-8c6e-f62815942659",
     "regions": {
      "57d3fd93-9860-460d-8652-afa9a52c8848": {
       "attrs": {
        "height": 0.8,
        "width": 0.8,
        "x": 0.1,
        "y": 0.1
       },
       "content": {
        "cell": "9a98f31e-a076-4b80-b8ff-82f2333d88bd",
        "part": "whole"
       },
       "id": "57d3fd93-9860-460d-8652-afa9a52c8848"
      }
     }
    },
    "67e78541-bbf0-4837-b720-cbee12c4094a": {
     "id": "67e78541-bbf0-4837-b720-cbee12c4094a",
     "prev": "de2e1803-0c05-4078-be7c-8fd3d9579ebb",
     "regions": {
      "58845809-0f6f-42a4-ace3-ba20dda41f2e": {
       "attrs": {
        "height": 0.8,
        "width": 0.8,
        "x": 0.1,
        "y": 0.1
       },
       "content": {
        "cell": "68dc24c1-a728-4989-94c5-77ec8513fd4b",
        "part": "whole"
       },
       "id": "58845809-0f6f-42a4-ace3-ba20dda41f2e"
      }
     }
    },
    "7845a78b-fbf7-409f-b929-98fe9b3e9e9e": {
     "id": "7845a78b-fbf7-409f-b929-98fe9b3e9e9e",
     "prev": "43da124f-83cd-45b1-bdee-03b03fd59edf",
     "regions": {
      "5c81822e-03b5-4429-b33a-3c75ea17b97b": {
       "attrs": {
        "height": 0.8,
        "width": 0.8,
        "x": 0.1,
        "y": 0.1
       },
       "content": {
        "cell": "b959e074-f02b-468d-8fe0-7bcc54824e96",
        "part": "whole"
       },
       "id": "5c81822e-03b5-4429-b33a-3c75ea17b97b"
      }
     }
    },
    "79b0f6b9-f11f-49b2-a00b-a9df5f5b3986": {
     "id": "79b0f6b9-f11f-49b2-a00b-a9df5f5b3986",
     "prev": "caada1d8-54b2-40f4-a0ab-a8b9594f61db",
     "regions": {
      "d5546ae7-8829-4b4e-9a14-d9cdf018fed9": {
       "attrs": {
        "height": 0.8,
        "width": 0.8,
        "x": 0.1,
        "y": 0.1
       },
       "content": {
        "cell": "3d6de738-5bd0-4bba-9e28-cd98f45030eb",
        "part": "whole"
       },
       "id": "d5546ae7-8829-4b4e-9a14-d9cdf018fed9"
      }
     }
    },
    "7b1b2418-bc51-4156-9256-a2fae4ce68fb": {
     "id": "7b1b2418-bc51-4156-9256-a2fae4ce68fb",
     "prev": "8e27c77d-524b-4869-8f9a-e9db2fcbddd6",
     "regions": {
      "fd269d57-841e-4e00-97f0-d303d903a9c3": {
       "attrs": {
        "height": 0.8,
        "width": 0.8,
        "x": 0.1,
        "y": 0.1
       },
       "content": {
        "cell": "347b83ff-543e-407d-b455-8e8c95b28dc9",
        "part": "whole"
       },
       "id": "fd269d57-841e-4e00-97f0-d303d903a9c3"
      }
     }
    },
    "800ebf0b-94cd-4327-a353-c1ae7fc7bc0e": {
     "id": "800ebf0b-94cd-4327-a353-c1ae7fc7bc0e",
     "prev": "5a4986cb-78e9-47fb-9444-58968ca64209",
     "regions": {
      "768001f5-c245-4129-92c2-1a06b4dd965c": {
       "attrs": {
        "height": 0.8,
        "width": 0.8,
        "x": 0.1,
        "y": 0.1
       },
       "content": {
        "cell": "709f2c20-29ba-4cfb-a16e-8c0b8e9b792e",
        "part": "whole"
       },
       "id": "768001f5-c245-4129-92c2-1a06b4dd965c"
      }
     }
    },
    "8e27c77d-524b-4869-8f9a-e9db2fcbddd6": {
     "id": "8e27c77d-524b-4869-8f9a-e9db2fcbddd6",
     "prev": "c4d99eac-0b14-4919-98bc-18edd9e56bd8",
     "regions": {
      "2399c707-c80a-4ff7-86bb-a5d675d35879": {
       "attrs": {
        "height": 0.8,
        "width": 0.8,
        "x": 0.1,
        "y": 0.1
       },
       "content": {
        "cell": "ba9b5a4c-219b-4c0d-82ca-90878a4fd6a7",
        "part": "whole"
       },
       "id": "2399c707-c80a-4ff7-86bb-a5d675d35879"
      }
     }
    },
    "adaad343-3c92-4f2f-bc01-f2dc107991b2": {
     "id": "adaad343-3c92-4f2f-bc01-f2dc107991b2",
     "prev": "637364c2-bd1b-45e6-9a58-08373380ad63",
     "regions": {
      "a2c19929-dfce-4c1e-b234-6a1d3da5627d": {
       "attrs": {
        "height": 0.8,
        "width": 0.8,
        "x": 0.1,
        "y": 0.1
       },
       "content": {
        "cell": "6dc0ad7d-9ea8-4120-8a92-2c4775a88c51",
        "part": "whole"
       },
       "id": "a2c19929-dfce-4c1e-b234-6a1d3da5627d"
      }
     }
    },
    "af6a835f-58fc-4e35-884b-26064ab72b3b": {
     "id": "af6a835f-58fc-4e35-884b-26064ab72b3b",
     "prev": "ef1074bd-120e-4daf-898c-869e013a8ceb",
     "regions": {
      "6f30d8b0-5e1f-4917-baea-0deca1401441": {
       "attrs": {
        "height": 0.8,
        "width": 0.8,
        "x": 0.1,
        "y": 0.1
       },
       "content": {
        "cell": "17fc8470-c64b-4047-a8c7-0d7c0bd1eab4",
        "part": "whole"
       },
       "id": "6f30d8b0-5e1f-4917-baea-0deca1401441"
      }
     }
    },
    "c4d99eac-0b14-4919-98bc-18edd9e56bd8": {
     "id": "c4d99eac-0b14-4919-98bc-18edd9e56bd8",
     "prev": "4823eebf-3cff-46ef-97c2-29d593f6f5ba",
     "regions": {
      "3f4377b4-9106-4177-b3be-8ddf497126ec": {
       "attrs": {
        "height": 0.8,
        "width": 0.8,
        "x": 0.1,
        "y": 0.1
       },
       "content": {
        "cell": "7a4f3d75-7d2e-4c23-94f3-fb6c995a42d3",
        "part": "whole"
       },
       "id": "3f4377b4-9106-4177-b3be-8ddf497126ec"
      }
     }
    },
    "caada1d8-54b2-40f4-a0ab-a8b9594f61db": {
     "id": "caada1d8-54b2-40f4-a0ab-a8b9594f61db",
     "prev": "61e27643-b0e4-46c9-9a0f-ca8df5f5a774",
     "regions": {
      "c4197175-c4b9-4445-9013-bd44e4878de9": {
       "attrs": {
        "height": 0.8,
        "width": 0.8,
        "x": 0.1,
        "y": 0.1
       },
       "content": {
        "cell": "e2a073c3-b918-405a-b35a-109726777c1b",
        "part": "whole"
       },
       "id": "c4197175-c4b9-4445-9013-bd44e4878de9"
      }
     }
    },
    "cb0067d9-e663-48a7-b402-d2b9e5a732ab": {
     "id": "cb0067d9-e663-48a7-b402-d2b9e5a732ab",
     "prev": "7b1b2418-bc51-4156-9256-a2fae4ce68fb",
     "regions": {
      "dda4ee62-9b1c-42e4-97ee-f0c1bb41ee4e": {
       "attrs": {
        "height": 0.8,
        "width": 0.8,
        "x": 0.1,
        "y": 0.1
       },
       "content": {
        "cell": "482646f9-93fe-4e7c-b0e7-61ad3d10fa7c",
        "part": "whole"
       },
       "id": "dda4ee62-9b1c-42e4-97ee-f0c1bb41ee4e"
      }
     }
    },
    "de2e1803-0c05-4078-be7c-8fd3d9579ebb": {
     "id": "de2e1803-0c05-4078-be7c-8fd3d9579ebb",
     "prev": "af6a835f-58fc-4e35-884b-26064ab72b3b",
     "regions": {
      "9d9f7ad6-6f9b-44b9-b0e4-d2f8c06cce7f": {
       "attrs": {
        "height": 0.8,
        "width": 0.8,
        "x": 0.1,
        "y": 0.1
       },
       "content": {
        "cell": "6e3935aa-d5c4-438a-88c3-e9fa3ae0786d",
        "part": "whole"
       },
       "id": "9d9f7ad6-6f9b-44b9-b0e4-d2f8c06cce7f"
      }
     }
    },
    "ef1074bd-120e-4daf-898c-869e013a8ceb": {
     "id": "ef1074bd-120e-4daf-898c-869e013a8ceb",
     "prev": "7845a78b-fbf7-409f-b929-98fe9b3e9e9e",
     "regions": {
      "17f90add-0969-4ffd-8057-5e497ec12730": {
       "attrs": {
        "height": 0.8,
        "width": 0.8,
        "x": 0.1,
        "y": 0.1
       },
       "content": {
        "cell": "de47714d-9cd6-486f-b874-111ce8979a66",
        "part": "whole"
       },
       "id": "17f90add-0969-4ffd-8057-5e497ec12730"
      }
     }
    },
    "efd4b20b-7b20-4813-bce8-9b315fb851b9": {
     "id": "efd4b20b-7b20-4813-bce8-9b315fb851b9",
     "prev": "5517da75-0204-4a39-998a-1fa3fcfb4761",
     "regions": {
      "553985cb-daeb-4070-a6e8-614c2908f613": {
       "attrs": {
        "height": 0.8,
        "width": 0.8,
        "x": 0.1,
        "y": 0.1
       },
       "content": {
        "cell": "c7e97cd6-a06d-41ba-b7b7-7b46f63fa6c4",
        "part": "whole"
       },
       "id": "553985cb-daeb-4070-a6e8-614c2908f613"
      }
     }
    }
   },
   "themes": {}
  }
 },
 "nbformat": 4,
 "nbformat_minor": 2
}
