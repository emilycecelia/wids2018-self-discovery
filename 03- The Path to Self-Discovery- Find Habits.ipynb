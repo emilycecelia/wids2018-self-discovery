{
 "cells": [
  {
   "cell_type": "markdown",
   "metadata": {},
   "source": [
    "<div style=\"background-color:dodgerblue;height:100px;\"><br>\n",
    "<center><h1><font style=\"color:white\">The Path to Self-Discovery: Find Habits</font></h1></center>\n",
    "</div>"
   ]
  },
  {
   "cell_type": "markdown",
   "metadata": {},
   "source": [
    "# Deja Vu\n",
    "\n",
    "Let's bring our data back!  Before, we loaded our DataFrame from a list of dictionaries.  Now, let's load it from a csv!"
   ]
  },
  {
   "cell_type": "code",
   "execution_count": 1,
   "metadata": {
    "collapsed": false
   },
   "outputs": [],
   "source": [
    "import pandas as pd\n",
    "df = pd.read_csv('./MyStructuredSearch.csv')"
   ]
  },
  {
   "cell_type": "markdown",
   "metadata": {},
   "source": [
    "## Exercise 1\n",
    "\n",
    "Remember when we cast our Lat, Lon, and Datestamp columns to the right datatypes?  Let's do it again!"
   ]
  },
  {
   "cell_type": "code",
   "execution_count": 2,
   "metadata": {
    "collapsed": false
   },
   "outputs": [],
   "source": [
    "df['Lat'] = df['Lat'].astype(float)\n",
    "df['Lon'] = df['Lon'].astype(float)\n",
    "df['Datestamp'] = pd.to_datetime(df['Datestamp'])"
   ]
  },
  {
   "cell_type": "markdown",
   "metadata": {
    "collapsed": true
   },
   "source": [
    "# The Apply Function\n",
    "\n",
    "Pandas has a wonderful transform function called the apply button.  It allows us to perform an operation against an entire Series, DataFrame, or Panel.\n",
    "\n",
    "To show us how great it is, let's grab the weekday of each of our dates, so that we can more easily specify and filter by day.\n",
    "\n",
    "First step: make a function that, given a datetime, will return its weekday. Note, 0 is Monday in Python land."
   ]
  },
  {
   "cell_type": "code",
   "execution_count": 3,
   "metadata": {
    "collapsed": true
   },
   "outputs": [],
   "source": [
    "def get_weekday(val):\n",
    "    if not pd.isnull(val):\n",
    "        return val.weekday()\n",
    "    else:\n",
    "        return None"
   ]
  },
  {
   "cell_type": "markdown",
   "metadata": {},
   "source": [
    "Now, we can apply that to our Datestamp column, and make a new column!"
   ]
  },
  {
   "cell_type": "code",
   "execution_count": 4,
   "metadata": {
    "collapsed": false
   },
   "outputs": [],
   "source": [
    "df['Weekday'] = df['Datestamp'].apply(get_weekday)"
   ]
  },
  {
   "cell_type": "markdown",
   "metadata": {},
   "source": [
    "Let's better understand what weekdays have the most searches."
   ]
  },
  {
   "cell_type": "code",
   "execution_count": 5,
   "metadata": {
    "collapsed": false
   },
   "outputs": [
    {
     "data": {
      "text/plain": [
       "0    416\n",
       "1    375\n",
       "2    355\n",
       "3    211\n",
       "5    137\n",
       "6    127\n",
       "4     95\n",
       "Name: Weekday, dtype: int64"
      ]
     },
     "execution_count": 5,
     "metadata": {},
     "output_type": "execute_result"
    }
   ],
   "source": [
    "df['Weekday'].value_counts()"
   ]
  },
  {
   "cell_type": "markdown",
   "metadata": {},
   "source": [
    "And we can plot this to better understand what our data is telling us!\n",
    "\n",
    "We won't go too detailed into plotting, but we can very easily make some histograms with pandas."
   ]
  },
  {
   "cell_type": "code",
   "execution_count": 6,
   "metadata": {
    "collapsed": false
   },
   "outputs": [
    {
     "name": "stdout",
     "output_type": "stream",
     "text": [
      "Populating the interactive namespace from numpy and matplotlib\n"
     ]
    }
   ],
   "source": [
    "import matplotlib.pyplot as plt\n",
    "plt.style.use('ggplot')\n",
    "%pylab inline"
   ]
  },
  {
   "cell_type": "code",
   "execution_count": 7,
   "metadata": {
    "collapsed": false
   },
   "outputs": [
    {
     "data": {
      "text/plain": [
       "<matplotlib.axes._subplots.AxesSubplot at 0x26e80485470>"
      ]
     },
     "execution_count": 7,
     "metadata": {},
     "output_type": "execute_result"
    },
    {
     "data": {
      "image/png": "[encoded data removed]",
      "text/plain": [
       "<matplotlib.figure.Figure at 0x26e80432198>"
      ]
     },
     "metadata": {},
     "output_type": "display_data"
    }
   ],
   "source": [
    "df['Weekday'].plot('hist')"
   ]
  },
  {
   "cell_type": "markdown",
   "metadata": {},
   "source": [
    "It looks like Mondays and Wednesdays, famously the least enjoyable days of the week, are also the days most searches are done."
   ]
  },
  {
   "cell_type": "markdown",
   "metadata": {},
   "source": [
    "## Exercise 7\n",
    "\n",
    "What are the top days of the week during which the user searched for directions.\n",
    "* Make a function that determines whether or not the search is for directions\n",
    "* Filter for all rows where directions were searched for\n",
    "* Plot the days of the week and number of times directions were searched each day"
   ]
  },
  {
   "cell_type": "code",
   "execution_count": 9,
   "metadata": {
    "collapsed": false
   },
   "outputs": [
    {
     "data": {
      "text/plain": [
       "<matplotlib.axes._subplots.AxesSubplot at 0x26e80564c88>"
      ]
     },
     "execution_count": 9,
     "metadata": {},
     "output_type": "execute_result"
    },
    {
     "data": {
      "image/png": "[encoded data removed]",
      "text/plain": [
       "<matplotlib.figure.Figure at 0x26e8050fba8>"
      ]
     },
     "metadata": {},
     "output_type": "display_data"
    }
   ],
   "source": [
    "def is_directions(val):\n",
    "    if type(val)==str:\n",
    "        return val.lower().startswith('directions to')\n",
    "    else:\n",
    "        return False\n",
    "    \n",
    "directions = df[df['Target'].apply(is_directions)]\n",
    "directions['Weekday'].plot('hist')"
   ]
  },
  {
   "cell_type": "markdown",
   "metadata": {},
   "source": [
    "## Exercise 8\n",
    "\n",
    "What are the top hours of the day during which the user is on his/her phone?"
   ]
  },
  {
   "cell_type": "code",
   "execution_count": 12,
   "metadata": {
    "collapsed": false
   },
   "outputs": [
    {
     "data": {
      "text/plain": [
       "<matplotlib.axes._subplots.AxesSubplot at 0x26e81553ef0>"
      ]
     },
     "execution_count": 12,
     "metadata": {},
     "output_type": "execute_result"
    },
    {
     "data": {
      "image/png": "[encoded data removed]",
      "text/plain": [
       "<matplotlib.figure.Figure at 0x26e8155b438>"
      ]
     },
     "metadata": {},
     "output_type": "display_data"
    }
   ],
   "source": [
    "def get_hour(val):\n",
    "    if not pd.isnull(val):\n",
    "        return val.hour\n",
    "    else:\n",
    "        return None\n",
    "    \n",
    "df['Hour'] = df['Datestamp'].apply(get_hour)\n",
    "df['Hour'].plot('hist')"
   ]
  },
  {
   "cell_type": "markdown",
   "metadata": {},
   "source": [
    "## Exercise 9\n",
    "\n",
    "Create a column that identifies the website for each Visited activity.\n",
    "\n",
    "`https://productforums.google.com/forum/` \n",
    "\n",
    "would be parsed as \n",
    "\n",
    "`productforums.google.com`\n",
    "\n",
    "Then find the most visited site."
   ]
  },
  {
   "cell_type": "code",
   "execution_count": 14,
   "metadata": {
    "collapsed": false
   },
   "outputs": [
    {
     "data": {
      "text/plain": [
       "0    stackoverflow.com\n",
       "dtype: object"
      ]
     },
     "execution_count": 14,
     "metadata": {},
     "output_type": "execute_result"
    }
   ],
   "source": [
    "import re\n",
    "\n",
    "site_p = re.compile('://(.+?)/')\n",
    "\n",
    "def get_site(val):\n",
    "    m = re.search(site_p, val)\n",
    "    if m:\n",
    "        return m.group(1)\n",
    "    else:\n",
    "        return None\n",
    "    \n",
    "df['Site'] = df['Target'].apply(get_site)\n",
    "df['Site'].mode()"
   ]
  },
  {
   "cell_type": "markdown",
   "metadata": {},
   "source": [
    "# Location, Location\n",
    "\n",
    "As our last little neat skill, let's learn about distance!  First, let's calculate the centroid of the points."
   ]
  },
  {
   "cell_type": "code",
   "execution_count": 15,
   "metadata": {
    "collapsed": true
   },
   "outputs": [],
   "source": [
    "avg_lat = df['Lat'].mean(skipna=True)\n",
    "avg_lon = df['Lon'].mean(skipna=True)\n",
    "avg_loc = (avg_lat, avg_lon)"
   ]
  },
  {
   "cell_type": "markdown",
   "metadata": {},
   "source": [
    "Python's Anaconda distribution has a great library called geopy that we can use to calculate the distance between two points!  For example, let's take the two ends of I-95: Miami, FL and Houlton, ME.\n",
    "\n",
    "We can use the Vincenty method.  According to the great Wikipedia: \"Vincenty's formulae are two related iterative methods used in geodesy to calculate the distance between two points on the surface of a spheroid, developed by Thaddeus Vincenty (1975a).\""
   ]
  },
  {
   "cell_type": "code",
   "execution_count": 16,
   "metadata": {
    "collapsed": false
   },
   "outputs": [
    {
     "name": "stdout",
     "output_type": "stream",
     "text": [
      "1563.1414786888304\n",
      "2515632.360839848\n"
     ]
    }
   ],
   "source": [
    "from geopy.distance import vincenty\n",
    "\n",
    "miami = (25.7617, 80.1918)\n",
    "houston = (46.135256, 67.781246)\n",
    "\n",
    "dist = vincenty(miami, houston)\n",
    "print(dist.miles)\n",
    "print(dist.meters)"
   ]
  },
  {
   "cell_type": "markdown",
   "metadata": {},
   "source": [
    "Now let's make a function that calculates a coordinates distance from the centroid!"
   ]
  },
  {
   "cell_type": "code",
   "execution_count": 17,
   "metadata": {
    "collapsed": false
   },
   "outputs": [],
   "source": [
    "def dist_from_centroid(ser):\n",
    "    if not pd.isnull(ser['Lat']):\n",
    "        lat = ser['Lat']\n",
    "        lon = ser['Lon']\n",
    "        coord = (lat, lon)\n",
    "        return vincenty(coord, avg_loc).miles\n",
    "    return None"
   ]
  },
  {
   "cell_type": "markdown",
   "metadata": {},
   "source": [
    "Now we want to use the apply function, but we want to use it across a set of multiple columns.  Fortunately, we can call apply on a whole DataFrame, not just a column!  We just have to tell pandas which axis we want to use, since by default, it will move along the 0th (or columnar) axis, rather than the rows (axis 1)."
   ]
  },
  {
   "cell_type": "code",
   "execution_count": 18,
   "metadata": {
    "collapsed": false
   },
   "outputs": [],
   "source": [
    "df['Distance From Centroid'] = df.apply(dist_from_centroid, axis=1)"
   ]
  },
  {
   "cell_type": "markdown",
   "metadata": {},
   "source": [
    "## Exercise 10\n",
    "What was the location furthest from the centroid?  What were the searches made at this location?"
   ]
  },
  {
   "cell_type": "code",
   "execution_count": 24,
   "metadata": {
    "collapsed": false
   },
   "outputs": [
    {
     "name": "stdout",
     "output_type": "stream",
     "text": [
      "            Lat        Lon\n",
      "1421  34.552794 -79.435186\n"
     ]
    },
    {
     "data": {
      "text/plain": [
       "nc state best programs      1\n",
       "best colleges for botany    1\n",
       "Name: Target, dtype: int64"
      ]
     },
     "execution_count": 24,
     "metadata": {},
     "output_type": "execute_result"
    }
   ],
   "source": [
    "furthest = df[df['Distance From Centroid']==df['Distance From Centroid'].max()]\n",
    "print(furthest[['Lat', 'Lon']].drop_duplicates())\n",
    "furthest['Target'].value_counts()"
   ]
  },
  {
   "cell_type": "markdown",
   "metadata": {},
   "source": [
    "The last piece of pandas we are going to explore is the `groupby` function.  This function allows us to group the data by one or more columns.  Basically, it creates little DataFrames associated with each of the groups.  Then we can perform operations on each of those and zip the results back up to each group!  "
   ]
  },
  {
   "cell_type": "code",
   "execution_count": 25,
   "metadata": {
    "collapsed": false
   },
   "outputs": [
    {
     "data": {
      "text/plain": [
       "Lat        Lon       \n",
       "34.543727  -79.249273    1\n",
       "34.552794  -79.435186    2\n",
       "34.553374  -79.430387    2\n",
       "           -79.430364    3\n",
       "34.553496  -79.430418    2\n",
       "dtype: int64"
      ]
     },
     "execution_count": 25,
     "metadata": {},
     "output_type": "execute_result"
    }
   ],
   "source": [
    "df.groupby(['Lat', 'Lon']).size().head()"
   ]
  },
  {
   "cell_type": "markdown",
   "metadata": {},
   "source": [
    "To make this more useful, we can sort the data as well (which we can do for Series, DataFrames, etc)."
   ]
  },
  {
   "cell_type": "code",
   "execution_count": 26,
   "metadata": {
    "collapsed": false
   },
   "outputs": [
    {
     "data": {
      "text/plain": [
       "Lat        Lon       \n",
       "39.105718  -77.157550    388\n",
       "38.913474  -77.002429    194\n",
       "38.913337  -77.001765     25\n",
       "38.922177  -77.020175     25\n",
       "38.916431  -76.997355     25\n",
       "dtype: int64"
      ]
     },
     "execution_count": 26,
     "metadata": {},
     "output_type": "execute_result"
    }
   ],
   "source": [
    "df.groupby(['Lat', 'Lon']).size().sort_values(ascending=False).head()"
   ]
  },
  {
   "cell_type": "markdown",
   "metadata": {},
   "source": []
  },
  {
   "cell_type": "markdown",
   "metadata": {},
   "source": [
    "# Dig Deep\n",
    "\n",
    "Using what you have learned, dig into the data and find out some cool stuff!\n",
    "\n",
    "Share what you learned here!\n",
    "\n",
    "https://docs.google.com/forms/d/e/1FAIpQLSexLLJ3N64y7GnyXnLcbJxMxPiJOErBjtPorwb4uw8Q7novlw/viewform?usp=sf_link"
   ]
  },
  {
   "cell_type": "code",
   "execution_count": null,
   "metadata": {
    "collapsed": true
   },
   "outputs": [],
   "source": []
  },
  {
   "cell_type": "markdown",
   "metadata": {},
   "source": [
    "## Visualizing Data in the Context of Location\n",
    "\n",
    "We can also learn a lot about the locations that someone searches in if we look at the searches by location.  Let's pop over to a visualization tool to plot our points.\n",
    "\n",
    "For an easy tool that lets you plot and color on an attribute, you can use https://www.google.com/mymaps.  They already have all this data anyways :)"
   ]
  },
  {
   "cell_type": "markdown",
   "metadata": {},
   "source": [
    "## Clustering\n",
    "\n",
    "Now looking at the data, we can clearly see that there are two distinct groups of points- one in the DC area and one in the North Carolina area.  We want to group these together, but how do we do so in an automated way that doesn't require our eyes? \n",
    "\n",
    "Clustering!  Clustering allows us to group a series of data points together based on their attributes.  Clustering can be done based on a variety of attributes.  In this case, we will be using the K-Means clustering method.  With k-means, we tell the algorithm how many clusters we want to create, and in turn, it tries to calculate that number of clusters, using the criteria that the group of points be one in which the distance from the centroid is minimized."
   ]
  },
  {
   "cell_type": "markdown",
   "metadata": {},
   "source": [
    "To do k-means, we will be using the scikitlearn library, which is Python's go to for machine learning."
   ]
  },
  {
   "cell_type": "code",
   "execution_count": 27,
   "metadata": {
    "collapsed": true
   },
   "outputs": [],
   "source": [
    "from sklearn.cluster import KMeans\n",
    "import numpy as np"
   ]
  },
  {
   "cell_type": "markdown",
   "metadata": {},
   "source": [
    "To start, we need to grab just the latitudes and longitudes from our data.  Then, we can simply throw them into the scikitlearn algorithm to calculate our clusters!"
   ]
  },
  {
   "cell_type": "code",
   "execution_count": 28,
   "metadata": {
    "collapsed": false
   },
   "outputs": [
    {
     "data": {
      "text/plain": [
       "0    504\n",
       "2    430\n",
       "1     16\n",
       "Name: Cluster No, dtype: int64"
      ]
     },
     "execution_count": 28,
     "metadata": {},
     "output_type": "execute_result"
    }
   ],
   "source": [
    "X = df[['Lat', 'Lon']].dropna()\n",
    "kmeans = KMeans(n_clusters=3, random_state=0).fit(X)\n",
    "X['Cluster No'] = kmeans.labels_\n",
    "X['Cluster No'].value_counts()"
   ]
  },
  {
   "cell_type": "markdown",
   "metadata": {},
   "source": [
    "Now, let's put our cluster number in as an attribute in our data set and visualize!"
   ]
  },
  {
   "cell_type": "code",
   "execution_count": 29,
   "metadata": {
    "collapsed": false
   },
   "outputs": [],
   "source": [
    "df['Cluster No'] = X['Cluster No']\n",
    "df.to_csv('Clustered Points.csv')"
   ]
  },
  {
   "cell_type": "code",
   "execution_count": 31,
   "metadata": {
    "collapsed": false
   },
   "outputs": [
    {
     "data": {
      "text/html": [
       "<div>\n",
       "<style>\n",
       "    .dataframe thead tr:only-child th {\n",
       "        text-align: right;\n",
       "    }\n",
       "\n",
       "    .dataframe thead th {\n",
       "        text-align: left;\n",
       "    }\n",
       "\n",
       "    .dataframe tbody tr th {\n",
       "        vertical-align: top;\n",
       "    }\n",
       "</style>\n",
       "<table border=\"1\" class=\"dataframe\">\n",
       "  <thead>\n",
       "    <tr style=\"text-align: right;\">\n",
       "      <th></th>\n",
       "      <th>Activity Type</th>\n",
       "      <th>Datestamp</th>\n",
       "      <th>Lat</th>\n",
       "      <th>Lon</th>\n",
       "      <th>Product</th>\n",
       "      <th>Target</th>\n",
       "      <th>Weekday</th>\n",
       "      <th>Hour</th>\n",
       "      <th>Site</th>\n",
       "      <th>Distance From Centroid</th>\n",
       "      <th>Cluster No</th>\n",
       "    </tr>\n",
       "  </thead>\n",
       "  <tbody>\n",
       "    <tr>\n",
       "      <th>0</th>\n",
       "      <td>Visited</td>\n",
       "      <td>2017-08-31 21:54:24</td>\n",
       "      <td>NaN</td>\n",
       "      <td>NaN</td>\n",
       "      <td>Search</td>\n",
       "      <td>https://stackoverflow.com/questions/2299022/se...</td>\n",
       "      <td>3</td>\n",
       "      <td>21</td>\n",
       "      <td>stackoverflow.com</td>\n",
       "      <td>NaN</td>\n",
       "      <td>NaN</td>\n",
       "    </tr>\n",
       "    <tr>\n",
       "      <th>1</th>\n",
       "      <td>Visited</td>\n",
       "      <td>2017-08-31 21:54:06</td>\n",
       "      <td>NaN</td>\n",
       "      <td>NaN</td>\n",
       "      <td>Search</td>\n",
       "      <td>https://stackoverflow.com/questions/12901979/s...</td>\n",
       "      <td>3</td>\n",
       "      <td>21</td>\n",
       "      <td>stackoverflow.com</td>\n",
       "      <td>NaN</td>\n",
       "      <td>NaN</td>\n",
       "    </tr>\n",
       "    <tr>\n",
       "      <th>2</th>\n",
       "      <td>Searched for</td>\n",
       "      <td>2017-08-31 21:54:03</td>\n",
       "      <td>38.913383</td>\n",
       "      <td>-77.001811</td>\n",
       "      <td>Search</td>\n",
       "      <td>sql query multiple servers</td>\n",
       "      <td>3</td>\n",
       "      <td>21</td>\n",
       "      <td>None</td>\n",
       "      <td>7.022226</td>\n",
       "      <td>2.0</td>\n",
       "    </tr>\n",
       "    <tr>\n",
       "      <th>3</th>\n",
       "      <td>Visited</td>\n",
       "      <td>2017-08-31 21:53:58</td>\n",
       "      <td>NaN</td>\n",
       "      <td>NaN</td>\n",
       "      <td>Search</td>\n",
       "      <td>https://social.msdn.microsoft.com/forums/sqlse...</td>\n",
       "      <td>3</td>\n",
       "      <td>21</td>\n",
       "      <td>social.msdn.microsoft.com</td>\n",
       "      <td>NaN</td>\n",
       "      <td>NaN</td>\n",
       "    </tr>\n",
       "    <tr>\n",
       "      <th>4</th>\n",
       "      <td>Searched for</td>\n",
       "      <td>2017-08-31 21:53:54</td>\n",
       "      <td>38.913384</td>\n",
       "      <td>-77.001803</td>\n",
       "      <td>Search</td>\n",
       "      <td>sql query multiple databases</td>\n",
       "      <td>3</td>\n",
       "      <td>21</td>\n",
       "      <td>None</td>\n",
       "      <td>7.022614</td>\n",
       "      <td>2.0</td>\n",
       "    </tr>\n",
       "  </tbody>\n",
       "</table>\n",
       "</div>"
      ],
      "text/plain": [
       "  Activity Type           Datestamp        Lat        Lon Product  \\\n",
       "0       Visited 2017-08-31 21:54:24        NaN        NaN  Search   \n",
       "1       Visited 2017-08-31 21:54:06        NaN        NaN  Search   \n",
       "2  Searched for 2017-08-31 21:54:03  38.913383 -77.001811  Search   \n",
       "3       Visited 2017-08-31 21:53:58        NaN        NaN  Search   \n",
       "4  Searched for 2017-08-31 21:53:54  38.913384 -77.001803  Search   \n",
       "\n",
       "                                              Target  Weekday  Hour  \\\n",
       "0  https://stackoverflow.com/questions/2299022/se...        3    21   \n",
       "1  https://stackoverflow.com/questions/12901979/s...        3    21   \n",
       "2                         sql query multiple servers        3    21   \n",
       "3  https://social.msdn.microsoft.com/forums/sqlse...        3    21   \n",
       "4                       sql query multiple databases        3    21   \n",
       "\n",
       "                        Site  Distance From Centroid  Cluster No  \n",
       "0          stackoverflow.com                     NaN         NaN  \n",
       "1          stackoverflow.com                     NaN         NaN  \n",
       "2                       None                7.022226         2.0  \n",
       "3  social.msdn.microsoft.com                     NaN         NaN  \n",
       "4                       None                7.022614         2.0  "
      ]
     },
     "execution_count": 31,
     "metadata": {},
     "output_type": "execute_result"
    }
   ],
   "source": [
    "df.head()"
   ]
  },
  {
   "cell_type": "markdown",
   "metadata": {},
   "source": [
    "Now that we have clusters defined for each coordinate, let's try to figure out what these places are.  One way we can do this is by looking at the directions searches to help guess what these clusters are for the user."
   ]
  },
  {
   "cell_type": "code",
   "execution_count": 35,
   "metadata": {
    "collapsed": false
   },
   "outputs": [
    {
     "data": {
      "text/plain": [
       "Cluster No  Target                                         \n",
       "0.0         directions to all asian massage washingtondc dc     1\n",
       "            directions to barcelona weston                      1\n",
       "            directions to home                                 14\n",
       "            directions to work                                  2\n",
       "2.0         directions to home                                  3\n",
       "            directions to warby parker dc washingtondc          1\n",
       "            directions to washingtondc garden center            1\n",
       "            directions to work                                 12\n",
       "dtype: int64"
      ]
     },
     "execution_count": 35,
     "metadata": {},
     "output_type": "execute_result"
    }
   ],
   "source": [
    "df['Directions'] = df['Target'].apply(is_directions)\n",
    "\n",
    "new_directions = df[df['Directions']==True]\n",
    "\n",
    "new_directions.groupby(['Cluster No', 'Target']).size()"
   ]
  },
  {
   "cell_type": "markdown",
   "metadata": {},
   "source": [
    "The user did not even search for directions at cluster 1, so we have no information.  But at cluster 0 and cluster 2, which are fairly near each other in the DC area (based on our visualization), we see that there are directoins searches.  At cluster 0, the dominant directions search was for 'home' and at cluster 2, the dominant search was for 'work'.  Thus, we can guess that they are getting directions to one another.  Cluster 0 is closer to the user's work area, and cluster 2 is closer to the home area.\n",
    "\n",
    "This is just an example of the sort of patterns you can define in search history.  You could identify top locations to get someone's actual home and place of work.  You could look for top searched names, phone numbers, addresses.  It's scary!\n",
    "\n",
    "## Lesson: Delete your search history and stop letting Google save it."
   ]
  }
 ],
 "metadata": {
  "anaconda-cloud": {},
  "kernelspec": {
   "display_name": "Python [conda root]",
   "language": "python",
   "name": "conda-root-py"
  },
  "language_info": {
   "codemirror_mode": {
    "name": "ipython",
    "version": 3
   },
   "file_extension": ".py",
   "mimetype": "text/x-python",
   "name": "python",
   "nbconvert_exporter": "python",
   "pygments_lexer": "ipython3",
   "version": "3.5.2"
  }
 },
 "nbformat": 4,
 "nbformat_minor": 2
}
