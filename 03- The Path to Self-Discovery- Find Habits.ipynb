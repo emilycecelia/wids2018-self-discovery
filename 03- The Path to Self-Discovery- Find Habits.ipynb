{
 "cells": [
  {
   "cell_type": "markdown",
   "metadata": {},
   "source": [
    "<div style=\"background-color:dodgerblue;height:100px;\"><br>\n",
    "<center><h1><font style=\"color:white\">The Path to Self-Discovery: Find Habits</font></h1></center>\n",
    "</div>"
   ]
  },
  {
   "cell_type": "markdown",
   "metadata": {},
   "source": [
    "# Deja Vu\n",
    "\n",
    "Let's bring our data back!  Before, we loaded our DataFrame from a list of dictionaries.  Now, let's load it from a csv!"
   ]
  },
  {
   "cell_type": "code",
   "execution_count": null,
   "metadata": {
    "collapsed": false
   },
   "outputs": [],
   "source": [
    "import pandas as pd\n",
    "df = pd.read_csv('./MyStructuredSearch.csv')"
   ]
  },
  {
   "cell_type": "markdown",
   "metadata": {},
   "source": [
    "## Exercise 1\n",
    "\n",
    "Remember when we cast our Lat, Lon, and Datestamp columns to the right datatypes?  Let's do it again!"
   ]
  },
  {
   "cell_type": "code",
   "execution_count": null,
   "metadata": {
    "collapsed": false
   },
   "outputs": [],
   "source": []
  },
  {
   "cell_type": "markdown",
   "metadata": {
    "collapsed": true
   },
   "source": [
    "# The Apply Function\n",
    "\n",
    "Pandas has a wonderful transform function called the apply button.  It allows us to perform an operation against an entire Series, DataFrame, or Panel.\n",
    "\n",
    "To show us how great it is, let's grab the weekday of each of our dates, so that we can more easily specify and filter by day.\n",
    "\n",
    "First step: make a function that, given a datetime, will return its weekday. Note, 0 is Monday in Python land."
   ]
  },
  {
   "cell_type": "code",
   "execution_count": null,
   "metadata": {
    "collapsed": true
   },
   "outputs": [],
   "source": [
    "def get_weekday(val):\n",
    "    if not pd.isnull(val):\n",
    "        return val.weekday()\n",
    "    else:\n",
    "        return None"
   ]
  },
  {
   "cell_type": "markdown",
   "metadata": {},
   "source": [
    "Now, we can apply that to our Datestamp column, and make a new column!"
   ]
  },
  {
   "cell_type": "code",
   "execution_count": null,
   "metadata": {
    "collapsed": false
   },
   "outputs": [],
   "source": [
    "df['Weekday'] = df['Datestamp'].apply(get_weekday)"
   ]
  },
  {
   "cell_type": "markdown",
   "metadata": {},
   "source": [
    "Let's better understand what weekdays have the most searches."
   ]
  },
  {
   "cell_type": "code",
   "execution_count": null,
   "metadata": {
    "collapsed": false
   },
   "outputs": [],
   "source": [
    "df['Weekday'].value_counts()"
   ]
  },
  {
   "cell_type": "markdown",
   "metadata": {},
   "source": [
    "And we can plot this to better understand what our data is telling us!\n",
    "\n",
    "We won't go too detailed into plotting, but we can very easily make some histograms with pandas."
   ]
  },
  {
   "cell_type": "code",
   "execution_count": null,
   "metadata": {
    "collapsed": false
   },
   "outputs": [],
   "source": [
    "import matplotlib.pyplot as plt\n",
    "plt.style.use('ggplot')\n",
    "%pylab inline"
   ]
  },
  {
   "cell_type": "code",
   "execution_count": null,
   "metadata": {
    "collapsed": false
   },
   "outputs": [],
   "source": [
    "df['Weekday'].plot('hist')"
   ]
  },
  {
   "cell_type": "markdown",
   "metadata": {},
   "source": [
    "It looks like Mondays and Wednesdays, famously the least enjoyable days of the week, are also the days most searches are done."
   ]
  },
  {
   "cell_type": "markdown",
   "metadata": {},
   "source": [
    "## Exercise 7\n",
    "\n",
    "What are the top days of the week during which the user searched for directions.\n",
    "* Make a function that determines whether or not the search is for directions\n",
    "* Filter for all rows where directions were searched for\n",
    "* Plot the days of the week and number of times directions were searched each day"
   ]
  },
  {
   "cell_type": "code",
   "execution_count": null,
   "metadata": {
    "collapsed": true
   },
   "outputs": [],
   "source": []
  },
  {
   "cell_type": "markdown",
   "metadata": {},
   "source": [
    "## Exercise 8\n",
    "\n",
    "What are the top hours of the day during which the user is on his/her phone?"
   ]
  },
  {
   "cell_type": "code",
   "execution_count": null,
   "metadata": {
    "collapsed": true
   },
   "outputs": [],
   "source": []
  },
  {
   "cell_type": "markdown",
   "metadata": {},
   "source": [
    "## Exercise 9\n",
    "\n",
    "Create a column that identifies the website for each Visited activity.\n",
    "\n",
    "`https://productforums.google.com/forum/` \n",
    "\n",
    "would be parsed as \n",
    "\n",
    "`productforums.google.com`\n",
    "\n",
    "Then find the most visited site."
   ]
  },
  {
   "cell_type": "code",
   "execution_count": null,
   "metadata": {
    "collapsed": false
   },
   "outputs": [],
   "source": []
  },
  {
   "cell_type": "markdown",
   "metadata": {},
   "source": [
    "# Location, Location\n",
    "\n",
    "As our last little neat skill, let's learn about distance!  First, let's calculate the centroid of the points."
   ]
  },
  {
   "cell_type": "code",
   "execution_count": null,
   "metadata": {
    "collapsed": true
   },
   "outputs": [],
   "source": [
    "avg_lat = df['Lat'].mean(skipna=True)\n",
    "avg_lon = df['Lon'].mean(skipna=True)\n",
    "avg_loc = (avg_lat, avg_lon)"
   ]
  },
  {
   "cell_type": "markdown",
   "metadata": {},
   "source": [
    "Python's Anaconda distribution has a great library called geopy that we can use to calculate the distance between two points!  For example, let's take the two ends of I-95: Miami, FL and Houlton, ME.\n",
    "\n",
    "We can use the Vincenty method.  According to the great Wikipedia: \"Vincenty's formulae are two related iterative methods used in geodesy to calculate the distance between two points on the surface of a spheroid, developed by Thaddeus Vincenty (1975a).\""
   ]
  },
  {
   "cell_type": "code",
   "execution_count": null,
   "metadata": {
    "collapsed": false
   },
   "outputs": [],
   "source": [
    "from geopy.distance import vincenty\n",
    "\n",
    "miami = (25.7617, 80.1918)\n",
    "houlton = (46.135256, 67.781246)\n",
    "\n",
    "dist = vincenty(miami, houlton)\n",
    "print(dist.miles)\n",
    "print(dist.meters)"
   ]
  },
  {
   "cell_type": "markdown",
   "metadata": {},
   "source": [
    "Now let's make a function that calculates a coordinates distance from the centroid!"
   ]
  },
  {
   "cell_type": "code",
   "execution_count": null,
   "metadata": {
    "collapsed": false
   },
   "outputs": [],
   "source": [
    "def dist_from_centroid(ser):\n",
    "    if not pd.isnull(ser['Lat']):\n",
    "        lat = ser['Lat']\n",
    "        lon = ser['Lon']\n",
    "        coord = (lat, lon)\n",
    "        return vincenty(coord, avg_loc).miles\n",
    "    return None"
   ]
  },
  {
   "cell_type": "markdown",
   "metadata": {},
   "source": [
    "Now we want to use the apply function, but we want to use it across a set of multiple columns.  Fortunately, we can call apply on a whole DataFrame, not just a column!  We just have to tell pandas which axis we want to use, since by default, it will move along the 0th (or columnar) axis, rather than the rows (axis 1)."
   ]
  },
  {
   "cell_type": "code",
   "execution_count": null,
   "metadata": {
    "collapsed": false
   },
   "outputs": [],
   "source": [
    "df['Distance From Centroid'] = df.apply(dist_from_centroid, axis=1)"
   ]
  },
  {
   "cell_type": "markdown",
   "metadata": {},
   "source": [
    "## Exercise 10\n",
    "What was the location furthest from the centroid?  What were the searches made at this location?"
   ]
  },
  {
   "cell_type": "code",
   "execution_count": null,
   "metadata": {
    "collapsed": false
   },
   "outputs": [],
   "source": []
  },
  {
   "cell_type": "markdown",
   "metadata": {},
   "source": [
    "The last piece of pandas we are going to explore is the `groupby` function.  This function allows us to group the data by one or more columns.  Basically, it creates little DataFrames associated with each of the groups.  Then we can perform operations on each of those and zip the results back up to each group!  "
   ]
  },
  {
   "cell_type": "code",
   "execution_count": null,
   "metadata": {
    "collapsed": false
   },
   "outputs": [],
   "source": [
    "df.groupby(['Lat', 'Lon']).size().head()"
   ]
  },
  {
   "cell_type": "markdown",
   "metadata": {},
   "source": [
    "To make this more useful, we can sort the data as well (which we can do for Series, DataFrames, etc)."
   ]
  },
  {
   "cell_type": "code",
   "execution_count": null,
   "metadata": {
    "collapsed": false
   },
   "outputs": [],
   "source": [
    "df.groupby(['Lat', 'Lon']).size().sort_values(ascending=False).head()"
   ]
  },
  {
   "cell_type": "markdown",
   "metadata": {},
   "source": []
  },
  {
   "cell_type": "markdown",
   "metadata": {},
   "source": [
    "# Dig Deep\n",
    "\n",
    "Using what you have learned, dig into the data and find out some cool stuff!\n",
    "\n",
    "Share what you learned here!\n",
    "\n",
    "https://docs.google.com/forms/d/e/1FAIpQLSexLLJ3N64y7GnyXnLcbJxMxPiJOErBjtPorwb4uw8Q7novlw/viewform?usp=sf_link"
   ]
  },
  {
   "cell_type": "code",
   "execution_count": null,
   "metadata": {
    "collapsed": true
   },
   "outputs": [],
   "source": []
  }
 ],
 "metadata": {
  "anaconda-cloud": {},
  "kernelspec": {
   "display_name": "Python [conda root]",
   "language": "python",
   "name": "conda-root-py"
  },
  "language_info": {
   "codemirror_mode": {
    "name": "ipython",
    "version": 3
   },
   "file_extension": ".py",
   "mimetype": "text/x-python",
   "name": "python",
   "nbconvert_exporter": "python",
   "pygments_lexer": "ipython3",
   "version": "3.5.2"
  }
 },
 "nbformat": 4,
 "nbformat_minor": 2
}
