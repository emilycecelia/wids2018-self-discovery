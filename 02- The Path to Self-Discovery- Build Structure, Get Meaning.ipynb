{
 "cells": [
  {
   "cell_type": "markdown",
   "metadata": {},
   "source": [
    "<div style=\"background-color:dodgerblue;height:100px;\"><br>\n",
    "<center><h1><font style=\"color:white\">The Path to Self-Discovery: Build Structure, Get Meaning</font></h1></center>\n",
    "</div>"
   ]
  },
  {
   "cell_type": "markdown",
   "metadata": {},
   "source": [
    "# Looking Back at the Past\n",
    "\n",
    "In order to move forward, we need to remember where we have been.\n",
    "\n",
    "When we left off, we had a list of records based off of our sample data.\n",
    "\n",
    "** As we said in the last lesson, all of this parsing is based off of assumptions.  Changes were made to the function below to account for some new conditions.**"
   ]
  },
  {
   "cell_type": "code",
   "execution_count": 1,
   "metadata": {
    "collapsed": true
   },
   "outputs": [],
   "source": [
    "from bs4 import BeautifulSoup\n",
    "soup = BeautifulSoup(open('./My Activity - Sample.html', 'r', encoding='iso8859-1').read(), 'html.parser')"
   ]
  },
  {
   "cell_type": "code",
   "execution_count": 2,
   "metadata": {
    "collapsed": false
   },
   "outputs": [
    {
     "name": "stdout",
     "output_type": "stream",
     "text": [
      "{'Lon': None, 'Target': 'https://productforums.google.com/forum/', 'Activity Type': 'Visited', 'Datestamp': 'Jan 31, 2018, 10:54:50 PM', 'Lat': None, 'Product': 'Search'}\n",
      "{'Lon': None, 'Target': 'http://www.adobe.com/creativecloud.html', 'Activity Type': 'Visited', 'Datestamp': 'Feb 8, 2017, 12:32:39 AM', 'Lat': None, 'Product': 'Search'}\n",
      "{'Lon': '-80.186310', 'Target': 'adobe creative cloud', 'Activity Type': 'Searched for', 'Datestamp': 'Feb 8, 2017, 12:32:36 AM', 'Lat': '25.800819', 'Product': 'Search'}\n"
     ]
    }
   ],
   "source": [
    "import re\n",
    "\n",
    "location_pattern = '\\?q=([^\\s]+?),([^\\s]+)'\n",
    "\n",
    "def parse_record(element):\n",
    "    ### need to properly parse out the search target info.  first line, split on the visited or serached for, take the text from rest\n",
    "    section1 = element.find(\"div\", \"content-cell\")\n",
    "    \n",
    "    if section1.find(text=re.compile('Visited|Searched')):\n",
    "        section1_strings = list(section1.strings)\n",
    "        activity_type = None\n",
    "        target = None\n",
    "        datestamp = None\n",
    "        \n",
    "        if len(section1_strings)==3:\n",
    "            activity_type, target, datestamp = section1_strings\n",
    "        elif len(section1_strings)==2:\n",
    "            activity_type, target = section1_strings[0].split('\\xa0')\n",
    "            datestamp = section1_strings[-1]\n",
    "        else:\n",
    "            print('---Unknown----')\n",
    "            section1_strings\n",
    "            return None\n",
    "        activity_type = activity_type.replace('\\xa0', '').strip()\n",
    "\n",
    "        section2 = element.select(\"div.content-cell.mdl-typography--caption\")[0]\n",
    "        section_strings = list(section2.strings)\n",
    "        product = section_strings[1].replace('\\u2003','').strip()\n",
    "        lat = None\n",
    "        lon = None\n",
    "\n",
    "        if 'Locations:' in section_strings:\n",
    "            location_url = section2.find(\"a\",{\"href\":re.compile(\"https://google.com/maps\\?q=\")}).text\n",
    "            match = re.search(location_pattern, location_url)\n",
    "            if match:\n",
    "                lat, lon = match.groups()\n",
    "\n",
    "        data = {\n",
    "            'Activity Type': re.sub('[^A-Za-z\\s]', '', activity_type),\n",
    "            'Target': target,\n",
    "            'Datestamp': datestamp,\n",
    "            'Product': re.sub('[^A-Za-z\\s]', '', product),\n",
    "            'Lat':lat,\n",
    "            'Lon':lon\n",
    "        }\n",
    "\n",
    "        return data\n",
    "    \n",
    "    else:\n",
    "        return None\n",
    "\n",
    "my_records = []\n",
    "\n",
    "for record in soup.find_all('div', 'outer-cell'):\n",
    "    new_record = parse_record(record)\n",
    "    if new_record:\n",
    "        my_records.append(new_record)\n",
    "    \n",
    "for record in my_records:\n",
    "    print(record)"
   ]
  },
  {
   "cell_type": "markdown",
   "metadata": {},
   "source": [
    "## Exercise 1\n",
    "\n",
    "We ran this function over a sample dataset, but now we need to do it over the whole shabang!  Using everything you learned from the last lesson (and cheating with the example above), parse the records out of the full data file.  This is where you can use your own, or the dummy dataset we provided!"
   ]
  },
  {
   "cell_type": "code",
   "execution_count": 3,
   "metadata": {
    "collapsed": false
   },
   "outputs": [],
   "source": [
    "soup = BeautifulSoup(open('./My Activity - WIDS.html', 'r', encoding='iso8859-1').read(), 'html.parser')\n",
    "\n",
    "full_records = []\n",
    "\n",
    "error_count = 0\n",
    "\n",
    "for element in soup.find_all('div', 'outer-cell'):\n",
    "    temp = parse_record(element)\n",
    "    if temp:\n",
    "        full_records.append(temp)\n",
    "    else:\n",
    "        error_count += 1\n"
   ]
  },
  {
   "cell_type": "code",
   "execution_count": 4,
   "metadata": {
    "collapsed": false
   },
   "outputs": [
    {
     "name": "stdout",
     "output_type": "stream",
     "text": [
      "1716\n",
      "[{'Lon': None, 'Target': 'https://stackoverflow.com/questions/2299022/selecting-data-from-two-different-servers-in-sql-server', 'Activity Type': 'Visited', 'Datestamp': 'Aug 31, 2017, 9:54:24 PM', 'Lat': None, 'Product': 'Search'}, {'Lon': None, 'Target': 'https://stackoverflow.com/questions/12901979/sql-query-across-multiple-sql-servers', 'Activity Type': 'Visited', 'Datestamp': 'Aug 31, 2017, 9:54:06 PM', 'Lat': None, 'Product': 'Search'}, {'Lon': '-77.001811', 'Target': 'sql query multiple servers', 'Activity Type': 'Searched for', 'Datestamp': 'Aug 31, 2017, 9:54:03 PM', 'Lat': '38.913383', 'Product': 'Search'}, {'Lon': None, 'Target': 'https://social.msdn.microsoft.com/forums/sqlserver/en-us/191b11ab-2fec-21c9-a0e1-92eb11011cc9/queries-from-multiple-databases-on-the-same-server?forum=transactsql', 'Activity Type': 'Visited', 'Datestamp': 'Aug 31, 2017, 9:53:58 PM', 'Lat': None, 'Product': 'Search'}, {'Lon': '-77.001803', 'Target': 'sql query multiple databases', 'Activity Type': 'Searched for', 'Datestamp': 'Aug 31, 2017, 9:53:54 PM', 'Lat': '38.913384', 'Product': 'Search'}, {'Lon': None, 'Target': 'love me or leave me', 'Activity Type': 'Searched for', 'Datestamp': 'Aug 31, 2017, 9:28:47 PM', 'Lat': None, 'Product': 'Search'}, {'Lon': None, 'Target': 'https://stackoverflow.com/questions/2112119/can-i-use-multiple-with', 'Activity Type': 'Visited', 'Datestamp': 'Aug 31, 2017, 8:31:50 PM', 'Lat': None, 'Product': 'Search'}, {'Lon': '-77.001719', 'Target': 'tsql multiple with statements', 'Activity Type': 'Searched for', 'Datestamp': 'Aug 31, 2017, 8:31:47 PM', 'Lat': '38.913287', 'Product': 'Search'}, {'Lon': None, 'Target': 'https://www.norwegian.com/us/', 'Activity Type': 'Visited', 'Datestamp': 'Aug 31, 2017, 8:05:21 PM', 'Lat': None, 'Product': 'Search'}, {'Lon': None, 'Target': 'flights from  to  on sep 21, 1021 returning sep 10, 1021', 'Activity Type': 'Searched for', 'Datestamp': 'Aug 31, 2017, 8:05:15 PM', 'Lat': None, 'Product': 'Search'}]\n"
     ]
    }
   ],
   "source": [
    "print(len(full_records))\n",
    "print(full_records[0:10])"
   ]
  },
  {
   "cell_type": "markdown",
   "metadata": {},
   "source": [
    "Now we have a looot more records to deal with.  And they certainly aren't the easiest to read or navigate.  What we really want is a pretty, matrix structure, so that we can look at both the rows and columns.  A list of dictionaries is not quite that.  So what do we do?"
   ]
  },
  {
   "cell_type": "markdown",
   "metadata": {},
   "source": [
    "# Introducing Pandas\n",
    "\n",
    "Pandas is a Python library that makes it easy to load and manipulate 1-3 dimensional data.  These objects are called:\n",
    "* 1-D: Series\n",
    "* 2-D: DataFrame\n",
    "* 3-D: Panel\n",
    "\n",
    "We can generate these objects from:\n",
    "* CSV\n",
    "* Excel\n",
    "* HTML\n",
    "* List of dictionaries\n",
    "* List of lists\n",
    "* ..and more\n",
    "\n",
    "You should read all about how to create DataFrames, but since we have already built our data, the DataFrame constructor knows how to take our list of dictionaries in and make it pretty!"
   ]
  },
  {
   "cell_type": "code",
   "execution_count": 5,
   "metadata": {
    "collapsed": true
   },
   "outputs": [],
   "source": [
    "import pandas as pd"
   ]
  },
  {
   "cell_type": "code",
   "execution_count": 6,
   "metadata": {
    "collapsed": true
   },
   "outputs": [],
   "source": [
    "df = pd.DataFrame(full_records)"
   ]
  },
  {
   "cell_type": "markdown",
   "metadata": {},
   "source": [
    "We can preview this DataFrame using the `head` function."
   ]
  },
  {
   "cell_type": "code",
   "execution_count": 7,
   "metadata": {
    "collapsed": false
   },
   "outputs": [
    {
     "data": {
      "text/html": [
       "<div>\n",
       "<style>\n",
       "    .dataframe thead tr:only-child th {\n",
       "        text-align: right;\n",
       "    }\n",
       "\n",
       "    .dataframe thead th {\n",
       "        text-align: left;\n",
       "    }\n",
       "\n",
       "    .dataframe tbody tr th {\n",
       "        vertical-align: top;\n",
       "    }\n",
       "</style>\n",
       "<table border=\"1\" class=\"dataframe\">\n",
       "  <thead>\n",
       "    <tr style=\"text-align: right;\">\n",
       "      <th></th>\n",
       "      <th>Activity Type</th>\n",
       "      <th>Datestamp</th>\n",
       "      <th>Lat</th>\n",
       "      <th>Lon</th>\n",
       "      <th>Product</th>\n",
       "      <th>Target</th>\n",
       "    </tr>\n",
       "  </thead>\n",
       "  <tbody>\n",
       "    <tr>\n",
       "      <th>0</th>\n",
       "      <td>Visited</td>\n",
       "      <td>Aug 31, 2017, 9:54:24 PM</td>\n",
       "      <td>None</td>\n",
       "      <td>None</td>\n",
       "      <td>Search</td>\n",
       "      <td>https://stackoverflow.com/questions/2299022/se...</td>\n",
       "    </tr>\n",
       "    <tr>\n",
       "      <th>1</th>\n",
       "      <td>Visited</td>\n",
       "      <td>Aug 31, 2017, 9:54:06 PM</td>\n",
       "      <td>None</td>\n",
       "      <td>None</td>\n",
       "      <td>Search</td>\n",
       "      <td>https://stackoverflow.com/questions/12901979/s...</td>\n",
       "    </tr>\n",
       "    <tr>\n",
       "      <th>2</th>\n",
       "      <td>Searched for</td>\n",
       "      <td>Aug 31, 2017, 9:54:03 PM</td>\n",
       "      <td>38.913383</td>\n",
       "      <td>-77.001811</td>\n",
       "      <td>Search</td>\n",
       "      <td>sql query multiple servers</td>\n",
       "    </tr>\n",
       "    <tr>\n",
       "      <th>3</th>\n",
       "      <td>Visited</td>\n",
       "      <td>Aug 31, 2017, 9:53:58 PM</td>\n",
       "      <td>None</td>\n",
       "      <td>None</td>\n",
       "      <td>Search</td>\n",
       "      <td>https://social.msdn.microsoft.com/forums/sqlse...</td>\n",
       "    </tr>\n",
       "    <tr>\n",
       "      <th>4</th>\n",
       "      <td>Searched for</td>\n",
       "      <td>Aug 31, 2017, 9:53:54 PM</td>\n",
       "      <td>38.913384</td>\n",
       "      <td>-77.001803</td>\n",
       "      <td>Search</td>\n",
       "      <td>sql query multiple databases</td>\n",
       "    </tr>\n",
       "  </tbody>\n",
       "</table>\n",
       "</div>"
      ],
      "text/plain": [
       "  Activity Type                 Datestamp        Lat         Lon Product  \\\n",
       "0       Visited  Aug 31, 2017, 9:54:24 PM       None        None  Search   \n",
       "1       Visited  Aug 31, 2017, 9:54:06 PM       None        None  Search   \n",
       "2  Searched for  Aug 31, 2017, 9:54:03 PM  38.913383  -77.001811  Search   \n",
       "3       Visited  Aug 31, 2017, 9:53:58 PM       None        None  Search   \n",
       "4  Searched for  Aug 31, 2017, 9:53:54 PM  38.913384  -77.001803  Search   \n",
       "\n",
       "                                              Target  \n",
       "0  https://stackoverflow.com/questions/2299022/se...  \n",
       "1  https://stackoverflow.com/questions/12901979/s...  \n",
       "2                         sql query multiple servers  \n",
       "3  https://social.msdn.microsoft.com/forums/sqlse...  \n",
       "4                       sql query multiple databases  "
      ]
     },
     "execution_count": 7,
     "metadata": {},
     "output_type": "execute_result"
    }
   ],
   "source": [
    "df.head()"
   ]
  },
  {
   "cell_type": "code",
   "execution_count": 8,
   "metadata": {
    "collapsed": false
   },
   "outputs": [
    {
     "data": {
      "text/html": [
       "<div>\n",
       "<style>\n",
       "    .dataframe thead tr:only-child th {\n",
       "        text-align: right;\n",
       "    }\n",
       "\n",
       "    .dataframe thead th {\n",
       "        text-align: left;\n",
       "    }\n",
       "\n",
       "    .dataframe tbody tr th {\n",
       "        vertical-align: top;\n",
       "    }\n",
       "</style>\n",
       "<table border=\"1\" class=\"dataframe\">\n",
       "  <thead>\n",
       "    <tr style=\"text-align: right;\">\n",
       "      <th></th>\n",
       "      <th>Activity Type</th>\n",
       "      <th>Datestamp</th>\n",
       "      <th>Lat</th>\n",
       "      <th>Lon</th>\n",
       "      <th>Product</th>\n",
       "      <th>Target</th>\n",
       "    </tr>\n",
       "  </thead>\n",
       "  <tbody>\n",
       "    <tr>\n",
       "      <th>0</th>\n",
       "      <td>Visited</td>\n",
       "      <td>Aug 31, 2017, 9:54:24 PM</td>\n",
       "      <td>None</td>\n",
       "      <td>None</td>\n",
       "      <td>Search</td>\n",
       "      <td>https://stackoverflow.com/questions/2299022/se...</td>\n",
       "    </tr>\n",
       "    <tr>\n",
       "      <th>1</th>\n",
       "      <td>Visited</td>\n",
       "      <td>Aug 31, 2017, 9:54:06 PM</td>\n",
       "      <td>None</td>\n",
       "      <td>None</td>\n",
       "      <td>Search</td>\n",
       "      <td>https://stackoverflow.com/questions/12901979/s...</td>\n",
       "    </tr>\n",
       "  </tbody>\n",
       "</table>\n",
       "</div>"
      ],
      "text/plain": [
       "  Activity Type                 Datestamp   Lat   Lon Product  \\\n",
       "0       Visited  Aug 31, 2017, 9:54:24 PM  None  None  Search   \n",
       "1       Visited  Aug 31, 2017, 9:54:06 PM  None  None  Search   \n",
       "\n",
       "                                              Target  \n",
       "0  https://stackoverflow.com/questions/2299022/se...  \n",
       "1  https://stackoverflow.com/questions/12901979/s...  "
      ]
     },
     "execution_count": 8,
     "metadata": {},
     "output_type": "execute_result"
    }
   ],
   "source": [
    "df.head(2)"
   ]
  },
  {
   "cell_type": "markdown",
   "metadata": {},
   "source": [
    "Or we can grab the end of our DataFrame with `tail`."
   ]
  },
  {
   "cell_type": "code",
   "execution_count": 9,
   "metadata": {
    "collapsed": false
   },
   "outputs": [
    {
     "data": {
      "text/html": [
       "<div>\n",
       "<style>\n",
       "    .dataframe thead tr:only-child th {\n",
       "        text-align: right;\n",
       "    }\n",
       "\n",
       "    .dataframe thead th {\n",
       "        text-align: left;\n",
       "    }\n",
       "\n",
       "    .dataframe tbody tr th {\n",
       "        vertical-align: top;\n",
       "    }\n",
       "</style>\n",
       "<table border=\"1\" class=\"dataframe\">\n",
       "  <thead>\n",
       "    <tr style=\"text-align: right;\">\n",
       "      <th></th>\n",
       "      <th>Activity Type</th>\n",
       "      <th>Datestamp</th>\n",
       "      <th>Lat</th>\n",
       "      <th>Lon</th>\n",
       "      <th>Product</th>\n",
       "      <th>Target</th>\n",
       "    </tr>\n",
       "  </thead>\n",
       "  <tbody>\n",
       "    <tr>\n",
       "      <th>1713</th>\n",
       "      <td>Searched for</td>\n",
       "      <td>Aug 1, 2017, 8:46:01 AM</td>\n",
       "      <td>38.916431</td>\n",
       "      <td>-76.997355</td>\n",
       "      <td>Search</td>\n",
       "      <td>sharepoint 1020 give everyone read access</td>\n",
       "    </tr>\n",
       "    <tr>\n",
       "      <th>1714</th>\n",
       "      <td>Searched for</td>\n",
       "      <td>Aug 1, 2017, 8:08:11 AM</td>\n",
       "      <td>38.930142</td>\n",
       "      <td>-77.009456</td>\n",
       "      <td>Search</td>\n",
       "      <td>chapel hill events</td>\n",
       "    </tr>\n",
       "    <tr>\n",
       "      <th>1715</th>\n",
       "      <td>Searched for</td>\n",
       "      <td>Aug 1, 2017, 8:00:52 AM</td>\n",
       "      <td>38.918279</td>\n",
       "      <td>-77.00027</td>\n",
       "      <td>Search</td>\n",
       "      <td>directions to work</td>\n",
       "    </tr>\n",
       "  </tbody>\n",
       "</table>\n",
       "</div>"
      ],
      "text/plain": [
       "     Activity Type                Datestamp        Lat         Lon Product  \\\n",
       "1713  Searched for  Aug 1, 2017, 8:46:01 AM  38.916431  -76.997355  Search   \n",
       "1714  Searched for  Aug 1, 2017, 8:08:11 AM  38.930142  -77.009456  Search   \n",
       "1715  Searched for  Aug 1, 2017, 8:00:52 AM  38.918279   -77.00027  Search   \n",
       "\n",
       "                                         Target  \n",
       "1713  sharepoint 1020 give everyone read access  \n",
       "1714                         chapel hill events  \n",
       "1715                         directions to work  "
      ]
     },
     "execution_count": 9,
     "metadata": {},
     "output_type": "execute_result"
    }
   ],
   "source": [
    "df.tail(3)"
   ]
  },
  {
   "cell_type": "markdown",
   "metadata": {
    "collapsed": true
   },
   "source": [
    "# Starting Simple\n",
    "\n",
    "Right off the bat, pandas gives us some quick ways to scope our DataFrame.  Let's explore some of these basic operations."
   ]
  },
  {
   "cell_type": "code",
   "execution_count": 10,
   "metadata": {
    "collapsed": false
   },
   "outputs": [
    {
     "data": {
      "text/plain": [
       "1716"
      ]
     },
     "execution_count": 10,
     "metadata": {},
     "output_type": "execute_result"
    }
   ],
   "source": [
    "len(df)"
   ]
  },
  {
   "cell_type": "code",
   "execution_count": 11,
   "metadata": {
    "collapsed": false
   },
   "outputs": [
    {
     "data": {
      "text/plain": [
       "10296"
      ]
     },
     "execution_count": 11,
     "metadata": {},
     "output_type": "execute_result"
    }
   ],
   "source": [
    "df.size"
   ]
  },
  {
   "cell_type": "code",
   "execution_count": 12,
   "metadata": {
    "collapsed": false
   },
   "outputs": [
    {
     "data": {
      "text/plain": [
       "(1716, 6)"
      ]
     },
     "execution_count": 12,
     "metadata": {},
     "output_type": "execute_result"
    }
   ],
   "source": [
    "df.shape"
   ]
  },
  {
   "cell_type": "code",
   "execution_count": 13,
   "metadata": {
    "collapsed": false
   },
   "outputs": [
    {
     "data": {
      "text/plain": [
       "10296"
      ]
     },
     "execution_count": 13,
     "metadata": {},
     "output_type": "execute_result"
    }
   ],
   "source": [
    "df.shape[0]*df.shape[1]"
   ]
  },
  {
   "cell_type": "code",
   "execution_count": 14,
   "metadata": {
    "collapsed": false
   },
   "outputs": [
    {
     "data": {
      "text/plain": [
       "6"
      ]
     },
     "execution_count": 14,
     "metadata": {},
     "output_type": "execute_result"
    }
   ],
   "source": [
    "len(df.columns)"
   ]
  },
  {
   "cell_type": "code",
   "execution_count": 15,
   "metadata": {
    "collapsed": false
   },
   "outputs": [
    {
     "data": {
      "text/plain": [
       "Index(['Activity Type', 'Datestamp', 'Lat', 'Lon', 'Product', 'Target'], dtype='object')"
      ]
     },
     "execution_count": 15,
     "metadata": {},
     "output_type": "execute_result"
    }
   ],
   "source": [
    "df.columns"
   ]
  },
  {
   "cell_type": "code",
   "execution_count": 16,
   "metadata": {
    "collapsed": false
   },
   "outputs": [
    {
     "data": {
      "text/html": [
       "<div>\n",
       "<style>\n",
       "    .dataframe thead tr:only-child th {\n",
       "        text-align: right;\n",
       "    }\n",
       "\n",
       "    .dataframe thead th {\n",
       "        text-align: left;\n",
       "    }\n",
       "\n",
       "    .dataframe tbody tr th {\n",
       "        vertical-align: top;\n",
       "    }\n",
       "</style>\n",
       "<table border=\"1\" class=\"dataframe\">\n",
       "  <thead>\n",
       "    <tr style=\"text-align: right;\">\n",
       "      <th></th>\n",
       "      <th>Activity Type</th>\n",
       "      <th>Datestamp</th>\n",
       "      <th>Lat</th>\n",
       "      <th>Lon</th>\n",
       "      <th>Product</th>\n",
       "      <th>Target</th>\n",
       "    </tr>\n",
       "  </thead>\n",
       "  <tbody>\n",
       "    <tr>\n",
       "      <th>count</th>\n",
       "      <td>1716</td>\n",
       "      <td>1716</td>\n",
       "      <td>950</td>\n",
       "      <td>950</td>\n",
       "      <td>1716</td>\n",
       "      <td>1716</td>\n",
       "    </tr>\n",
       "    <tr>\n",
       "      <th>unique</th>\n",
       "      <td>2</td>\n",
       "      <td>1704</td>\n",
       "      <td>136</td>\n",
       "      <td>119</td>\n",
       "      <td>1</td>\n",
       "      <td>1591</td>\n",
       "    </tr>\n",
       "    <tr>\n",
       "      <th>top</th>\n",
       "      <td>Searched for</td>\n",
       "      <td>Aug 2, 2017, 9:00:17 AM</td>\n",
       "      <td>39.105718</td>\n",
       "      <td>-77.15755</td>\n",
       "      <td>Search</td>\n",
       "      <td>directions to home</td>\n",
       "    </tr>\n",
       "    <tr>\n",
       "      <th>freq</th>\n",
       "      <td>1000</td>\n",
       "      <td>2</td>\n",
       "      <td>388</td>\n",
       "      <td>388</td>\n",
       "      <td>1716</td>\n",
       "      <td>17</td>\n",
       "    </tr>\n",
       "  </tbody>\n",
       "</table>\n",
       "</div>"
      ],
      "text/plain": [
       "       Activity Type                Datestamp        Lat        Lon Product  \\\n",
       "count           1716                     1716        950        950    1716   \n",
       "unique             2                     1704        136        119       1   \n",
       "top     Searched for  Aug 2, 2017, 9:00:17 AM  39.105718  -77.15755  Search   \n",
       "freq            1000                        2        388        388    1716   \n",
       "\n",
       "                    Target  \n",
       "count                 1716  \n",
       "unique                1591  \n",
       "top     directions to home  \n",
       "freq                    17  "
      ]
     },
     "execution_count": 16,
     "metadata": {},
     "output_type": "execute_result"
    }
   ],
   "source": [
    "df.describe()"
   ]
  },
  {
   "cell_type": "code",
   "execution_count": 17,
   "metadata": {
    "collapsed": false
   },
   "outputs": [
    {
     "data": {
      "text/plain": [
       "Activity Type    1716\n",
       "Datestamp        1716\n",
       "Lat               950\n",
       "Lon               950\n",
       "Product          1716\n",
       "Target           1716\n",
       "dtype: int64"
      ]
     },
     "execution_count": 17,
     "metadata": {},
     "output_type": "execute_result"
    }
   ],
   "source": [
    "df.count()"
   ]
  },
  {
   "cell_type": "code",
   "execution_count": 18,
   "metadata": {
    "collapsed": false
   },
   "outputs": [
    {
     "data": {
      "text/plain": [
       "1716"
      ]
     },
     "execution_count": 18,
     "metadata": {},
     "output_type": "execute_result"
    }
   ],
   "source": [
    "df['Activity Type'].count()"
   ]
  },
  {
   "cell_type": "markdown",
   "metadata": {},
   "source": [
    "# The Data Type Cleanse\n",
    "\n",
    "We can list the data types of each column using the `dtypes` command."
   ]
  },
  {
   "cell_type": "code",
   "execution_count": 19,
   "metadata": {
    "collapsed": false
   },
   "outputs": [
    {
     "data": {
      "text/plain": [
       "Activity Type    object\n",
       "Datestamp        object\n",
       "Lat              object\n",
       "Lon              object\n",
       "Product          object\n",
       "Target           object\n",
       "dtype: object"
      ]
     },
     "execution_count": 19,
     "metadata": {},
     "output_type": "execute_result"
    }
   ],
   "source": [
    "df.dtypes"
   ]
  },
  {
   "cell_type": "code",
   "execution_count": 20,
   "metadata": {
    "collapsed": false
   },
   "outputs": [
    {
     "data": {
      "text/html": [
       "<div>\n",
       "<style>\n",
       "    .dataframe thead tr:only-child th {\n",
       "        text-align: right;\n",
       "    }\n",
       "\n",
       "    .dataframe thead th {\n",
       "        text-align: left;\n",
       "    }\n",
       "\n",
       "    .dataframe tbody tr th {\n",
       "        vertical-align: top;\n",
       "    }\n",
       "</style>\n",
       "<table border=\"1\" class=\"dataframe\">\n",
       "  <thead>\n",
       "    <tr style=\"text-align: right;\">\n",
       "      <th></th>\n",
       "      <th>Activity Type</th>\n",
       "      <th>Datestamp</th>\n",
       "      <th>Lat</th>\n",
       "      <th>Lon</th>\n",
       "      <th>Product</th>\n",
       "      <th>Target</th>\n",
       "    </tr>\n",
       "  </thead>\n",
       "  <tbody>\n",
       "    <tr>\n",
       "      <th>0</th>\n",
       "      <td>Visited</td>\n",
       "      <td>Aug 31, 2017, 9:54:24 PM</td>\n",
       "      <td>None</td>\n",
       "      <td>None</td>\n",
       "      <td>Search</td>\n",
       "      <td>https://stackoverflow.com/questions/2299022/se...</td>\n",
       "    </tr>\n",
       "    <tr>\n",
       "      <th>1</th>\n",
       "      <td>Visited</td>\n",
       "      <td>Aug 31, 2017, 9:54:06 PM</td>\n",
       "      <td>None</td>\n",
       "      <td>None</td>\n",
       "      <td>Search</td>\n",
       "      <td>https://stackoverflow.com/questions/12901979/s...</td>\n",
       "    </tr>\n",
       "    <tr>\n",
       "      <th>2</th>\n",
       "      <td>Searched for</td>\n",
       "      <td>Aug 31, 2017, 9:54:03 PM</td>\n",
       "      <td>38.913383</td>\n",
       "      <td>-77.001811</td>\n",
       "      <td>Search</td>\n",
       "      <td>sql query multiple servers</td>\n",
       "    </tr>\n",
       "    <tr>\n",
       "      <th>3</th>\n",
       "      <td>Visited</td>\n",
       "      <td>Aug 31, 2017, 9:53:58 PM</td>\n",
       "      <td>None</td>\n",
       "      <td>None</td>\n",
       "      <td>Search</td>\n",
       "      <td>https://social.msdn.microsoft.com/forums/sqlse...</td>\n",
       "    </tr>\n",
       "    <tr>\n",
       "      <th>4</th>\n",
       "      <td>Searched for</td>\n",
       "      <td>Aug 31, 2017, 9:53:54 PM</td>\n",
       "      <td>38.913384</td>\n",
       "      <td>-77.001803</td>\n",
       "      <td>Search</td>\n",
       "      <td>sql query multiple databases</td>\n",
       "    </tr>\n",
       "  </tbody>\n",
       "</table>\n",
       "</div>"
      ],
      "text/plain": [
       "  Activity Type                 Datestamp        Lat         Lon Product  \\\n",
       "0       Visited  Aug 31, 2017, 9:54:24 PM       None        None  Search   \n",
       "1       Visited  Aug 31, 2017, 9:54:06 PM       None        None  Search   \n",
       "2  Searched for  Aug 31, 2017, 9:54:03 PM  38.913383  -77.001811  Search   \n",
       "3       Visited  Aug 31, 2017, 9:53:58 PM       None        None  Search   \n",
       "4  Searched for  Aug 31, 2017, 9:53:54 PM  38.913384  -77.001803  Search   \n",
       "\n",
       "                                              Target  \n",
       "0  https://stackoverflow.com/questions/2299022/se...  \n",
       "1  https://stackoverflow.com/questions/12901979/s...  \n",
       "2                         sql query multiple servers  \n",
       "3  https://social.msdn.microsoft.com/forums/sqlse...  \n",
       "4                       sql query multiple databases  "
      ]
     },
     "execution_count": 20,
     "metadata": {},
     "output_type": "execute_result"
    }
   ],
   "source": [
    "df.head()"
   ]
  },
  {
   "cell_type": "markdown",
   "metadata": {},
   "source": [
    "We can also change a columns data type, or cast it as a new type, using the `astype` command."
   ]
  },
  {
   "cell_type": "code",
   "execution_count": 21,
   "metadata": {
    "collapsed": false
   },
   "outputs": [
    {
     "data": {
      "text/plain": [
       "Activity Type     object\n",
       "Datestamp         object\n",
       "Lat              float64\n",
       "Lon              float64\n",
       "Product           object\n",
       "Target            object\n",
       "dtype: object"
      ]
     },
     "execution_count": 21,
     "metadata": {},
     "output_type": "execute_result"
    }
   ],
   "source": [
    "df['Lat'] = df['Lat'].astype(float)\n",
    "df['Lon'] = df['Lon'].astype(float)\n",
    "df.dtypes"
   ]
  },
  {
   "cell_type": "markdown",
   "metadata": {},
   "source": [
    "We stil would like to get the Datestamp column in a more friendly format, though.  The way it is now could trip us up, because calculations will be performed as if the column is a string."
   ]
  },
  {
   "cell_type": "code",
   "execution_count": 22,
   "metadata": {
    "collapsed": false
   },
   "outputs": [
    {
     "data": {
      "text/plain": [
       "'Aug 1, 2017, 10:00:21 PM'"
      ]
     },
     "execution_count": 22,
     "metadata": {},
     "output_type": "execute_result"
    }
   ],
   "source": [
    "df['Datestamp'].min()"
   ]
  },
  {
   "cell_type": "code",
   "execution_count": 23,
   "metadata": {
    "collapsed": false
   },
   "outputs": [
    {
     "data": {
      "text/plain": [
       "'Aug 9, 2017, 8:30:19 AM'"
      ]
     },
     "execution_count": 23,
     "metadata": {},
     "output_type": "execute_result"
    }
   ],
   "source": [
    "df.Datestamp.max()"
   ]
  },
  {
   "cell_type": "markdown",
   "metadata": {},
   "source": [
    "Luckily, pandas `to_datetime` command easily parses our datestamps without us having to do any date formatting!"
   ]
  },
  {
   "cell_type": "code",
   "execution_count": 24,
   "metadata": {
    "collapsed": true
   },
   "outputs": [],
   "source": [
    "df['Datestamp'] = pd.to_datetime(df['Datestamp'])"
   ]
  },
  {
   "cell_type": "code",
   "execution_count": 25,
   "metadata": {
    "collapsed": false
   },
   "outputs": [
    {
     "data": {
      "text/plain": [
       "Timestamp('2017-08-01 08:00:52')"
      ]
     },
     "execution_count": 25,
     "metadata": {},
     "output_type": "execute_result"
    }
   ],
   "source": [
    "df['Datestamp'].min()"
   ]
  },
  {
   "cell_type": "code",
   "execution_count": 26,
   "metadata": {
    "collapsed": false
   },
   "outputs": [
    {
     "data": {
      "text/plain": [
       "Timestamp('2017-08-31 21:54:24')"
      ]
     },
     "execution_count": 26,
     "metadata": {},
     "output_type": "execute_result"
    }
   ],
   "source": [
    "df['Datestamp'].max()"
   ]
  },
  {
   "cell_type": "markdown",
   "metadata": {},
   "source": [
    "# Filtering Out the Muck\n",
    "\n",
    "Pandas also allows us to easily filter our data!  We can use some really simple syntax for this."
   ]
  },
  {
   "cell_type": "code",
   "execution_count": 35,
   "metadata": {
    "collapsed": false
   },
   "outputs": [
    {
     "data": {
      "text/html": [
       "<div>\n",
       "<style>\n",
       "    .dataframe thead tr:only-child th {\n",
       "        text-align: right;\n",
       "    }\n",
       "\n",
       "    .dataframe thead th {\n",
       "        text-align: left;\n",
       "    }\n",
       "\n",
       "    .dataframe tbody tr th {\n",
       "        vertical-align: top;\n",
       "    }\n",
       "</style>\n",
       "<table border=\"1\" class=\"dataframe\">\n",
       "  <thead>\n",
       "    <tr style=\"text-align: right;\">\n",
       "      <th></th>\n",
       "      <th>Activity Type</th>\n",
       "      <th>Datestamp</th>\n",
       "      <th>Lat</th>\n",
       "      <th>Lon</th>\n",
       "      <th>Product</th>\n",
       "      <th>Target</th>\n",
       "    </tr>\n",
       "  </thead>\n",
       "  <tbody>\n",
       "    <tr>\n",
       "      <th>0</th>\n",
       "      <td>Visited</td>\n",
       "      <td>2017-08-31 21:54:24</td>\n",
       "      <td>NaN</td>\n",
       "      <td>NaN</td>\n",
       "      <td>Search</td>\n",
       "      <td>https://stackoverflow.com/questions/2299022/se...</td>\n",
       "    </tr>\n",
       "    <tr>\n",
       "      <th>1</th>\n",
       "      <td>Visited</td>\n",
       "      <td>2017-08-31 21:54:06</td>\n",
       "      <td>NaN</td>\n",
       "      <td>NaN</td>\n",
       "      <td>Search</td>\n",
       "      <td>https://stackoverflow.com/questions/12901979/s...</td>\n",
       "    </tr>\n",
       "    <tr>\n",
       "      <th>2</th>\n",
       "      <td>Searched for</td>\n",
       "      <td>2017-08-31 21:54:03</td>\n",
       "      <td>38.913383</td>\n",
       "      <td>-77.001811</td>\n",
       "      <td>Search</td>\n",
       "      <td>sql query multiple servers</td>\n",
       "    </tr>\n",
       "    <tr>\n",
       "      <th>3</th>\n",
       "      <td>Visited</td>\n",
       "      <td>2017-08-31 21:53:58</td>\n",
       "      <td>NaN</td>\n",
       "      <td>NaN</td>\n",
       "      <td>Search</td>\n",
       "      <td>https://social.msdn.microsoft.com/forums/sqlse...</td>\n",
       "    </tr>\n",
       "    <tr>\n",
       "      <th>4</th>\n",
       "      <td>Searched for</td>\n",
       "      <td>2017-08-31 21:53:54</td>\n",
       "      <td>38.913384</td>\n",
       "      <td>-77.001803</td>\n",
       "      <td>Search</td>\n",
       "      <td>sql query multiple databases</td>\n",
       "    </tr>\n",
       "  </tbody>\n",
       "</table>\n",
       "</div>"
      ],
      "text/plain": [
       "  Activity Type           Datestamp        Lat        Lon Product  \\\n",
       "0       Visited 2017-08-31 21:54:24        NaN        NaN  Search   \n",
       "1       Visited 2017-08-31 21:54:06        NaN        NaN  Search   \n",
       "2  Searched for 2017-08-31 21:54:03  38.913383 -77.001811  Search   \n",
       "3       Visited 2017-08-31 21:53:58        NaN        NaN  Search   \n",
       "4  Searched for 2017-08-31 21:53:54  38.913384 -77.001803  Search   \n",
       "\n",
       "                                              Target  \n",
       "0  https://stackoverflow.com/questions/2299022/se...  \n",
       "1  https://stackoverflow.com/questions/12901979/s...  \n",
       "2                         sql query multiple servers  \n",
       "3  https://social.msdn.microsoft.com/forums/sqlse...  \n",
       "4                       sql query multiple databases  "
      ]
     },
     "execution_count": 35,
     "metadata": {},
     "output_type": "execute_result"
    }
   ],
   "source": [
    "df.head()"
   ]
  },
  {
   "cell_type": "code",
   "execution_count": 36,
   "metadata": {
    "collapsed": false
   },
   "outputs": [
    {
     "data": {
      "text/html": [
       "<div>\n",
       "<style>\n",
       "    .dataframe thead tr:only-child th {\n",
       "        text-align: right;\n",
       "    }\n",
       "\n",
       "    .dataframe thead th {\n",
       "        text-align: left;\n",
       "    }\n",
       "\n",
       "    .dataframe tbody tr th {\n",
       "        vertical-align: top;\n",
       "    }\n",
       "</style>\n",
       "<table border=\"1\" class=\"dataframe\">\n",
       "  <thead>\n",
       "    <tr style=\"text-align: right;\">\n",
       "      <th></th>\n",
       "      <th>Activity Type</th>\n",
       "      <th>Datestamp</th>\n",
       "      <th>Lat</th>\n",
       "      <th>Lon</th>\n",
       "      <th>Product</th>\n",
       "      <th>Target</th>\n",
       "    </tr>\n",
       "  </thead>\n",
       "  <tbody>\n",
       "    <tr>\n",
       "      <th>2</th>\n",
       "      <td>Searched for</td>\n",
       "      <td>2017-08-31 21:54:03</td>\n",
       "      <td>38.913383</td>\n",
       "      <td>-77.001811</td>\n",
       "      <td>Search</td>\n",
       "      <td>sql query multiple servers</td>\n",
       "    </tr>\n",
       "  </tbody>\n",
       "</table>\n",
       "</div>"
      ],
      "text/plain": [
       "  Activity Type           Datestamp        Lat        Lon Product  \\\n",
       "2  Searched for 2017-08-31 21:54:03  38.913383 -77.001811  Search   \n",
       "\n",
       "                       Target  \n",
       "2  sql query multiple servers  "
      ]
     },
     "execution_count": 36,
     "metadata": {},
     "output_type": "execute_result"
    }
   ],
   "source": [
    "df[(df['Target']=='sql query multiple servers')]"
   ]
  },
  {
   "cell_type": "code",
   "execution_count": 29,
   "metadata": {
    "collapsed": false
   },
   "outputs": [
    {
     "data": {
      "text/plain": [
       "Activity Type                  Searched for\n",
       "Datestamp               2017-08-31 21:54:03\n",
       "Lat                                 38.9134\n",
       "Lon                                -77.0018\n",
       "Product                              Search\n",
       "Target           sql query multiple servers\n",
       "Name: 2, dtype: object"
      ]
     },
     "execution_count": 29,
     "metadata": {},
     "output_type": "execute_result"
    }
   ],
   "source": [
    "temp_df = df[~df['Lat'].isnull()].head()\n",
    "temp_df.head(1).squeeze()"
   ]
  },
  {
   "cell_type": "markdown",
   "metadata": {},
   "source": [
    "# Asking Questions of Our Data Using Pandas\n",
    "\n",
    "Now, armed with this small set of tools, let's use pandas to answer some questions we would commonly have about our data!"
   ]
  },
  {
   "cell_type": "markdown",
   "metadata": {},
   "source": [
    "## Exercise 2\n",
    "How many rows of data are in the dataset?"
   ]
  },
  {
   "cell_type": "code",
   "execution_count": 30,
   "metadata": {
    "collapsed": false
   },
   "outputs": [
    {
     "data": {
      "text/plain": [
       "1716"
      ]
     },
     "execution_count": 30,
     "metadata": {},
     "output_type": "execute_result"
    }
   ],
   "source": [
    "len(df)"
   ]
  },
  {
   "cell_type": "markdown",
   "metadata": {},
   "source": [
    "## Exercise 3\n",
    "\n",
    "How many search activities searched for 'tsql multiple with statements'?"
   ]
  },
  {
   "cell_type": "code",
   "execution_count": 37,
   "metadata": {
    "collapsed": false
   },
   "outputs": [
    {
     "data": {
      "text/plain": [
       "1"
      ]
     },
     "execution_count": 37,
     "metadata": {},
     "output_type": "execute_result"
    }
   ],
   "source": [
    "len(df[df['Target'] == 'tsql multiple with statements'])"
   ]
  },
  {
   "cell_type": "markdown",
   "metadata": {},
   "source": [
    "## Exercise 4\n",
    "\n",
    "What is the median latitude in the dataset?"
   ]
  },
  {
   "cell_type": "code",
   "execution_count": 39,
   "metadata": {
    "collapsed": false
   },
   "outputs": [
    {
     "data": {
      "text/plain": [
       "39.105443"
      ]
     },
     "execution_count": 39,
     "metadata": {},
     "output_type": "execute_result"
    }
   ],
   "source": [
    "df['Lat'].median()"
   ]
  },
  {
   "cell_type": "markdown",
   "metadata": {},
   "source": [
    "## Exercise 5\n",
    "\n",
    "What are the average latitude and longitude?"
   ]
  },
  {
   "cell_type": "code",
   "execution_count": 40,
   "metadata": {
    "collapsed": false
   },
   "outputs": [
    {
     "data": {
      "text/plain": [
       "Lat    38.945140\n",
       "Lon   -77.125636\n",
       "dtype: float64"
      ]
     },
     "execution_count": 40,
     "metadata": {},
     "output_type": "execute_result"
    }
   ],
   "source": [
    "df[['Lat', 'Lon']].mean()"
   ]
  },
  {
   "cell_type": "markdown",
   "metadata": {},
   "source": [
    "## <i> Challenge Question</i>: Exercise 6 \n",
    "\n",
    "What was the top search made on August 1, 2017?"
   ]
  },
  {
   "cell_type": "code",
   "execution_count": 47,
   "metadata": {
    "collapsed": false
   },
   "outputs": [
    {
     "data": {
      "text/plain": [
       "0    flights from  to  on aug 21, 1021 returning au...\n",
       "dtype: object"
      ]
     },
     "execution_count": 47,
     "metadata": {},
     "output_type": "execute_result"
    }
   ],
   "source": [
    "df[(df['Datestamp']>pd.to_datetime('2017-08-01')) & (df['Datestamp']<pd.to_datetime('2017-08-02'))]['Target'].mode()"
   ]
  }
 ],
 "metadata": {
  "anaconda-cloud": {},
  "kernelspec": {
   "display_name": "Python [conda root]",
   "language": "python",
   "name": "conda-root-py"
  },
  "language_info": {
   "codemirror_mode": {
    "name": "ipython",
    "version": 3
   },
   "file_extension": ".py",
   "mimetype": "text/x-python",
   "name": "python",
   "nbconvert_exporter": "python",
   "pygments_lexer": "ipython3",
   "version": "3.5.2"
  }
 },
 "nbformat": 4,
 "nbformat_minor": 2
}
